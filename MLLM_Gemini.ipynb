{
  "cells": [
    {
      "cell_type": "markdown",
      "metadata": {
        "id": "FFPBKLapSCkM"
      },
      "source": [
        "## Investigation of Error Sources in a Cohort Selection Service Based on a Multimodal Large Language Models\n"
      ]
    },
    {
      "cell_type": "code",
      "execution_count": null,
      "metadata": {
        "id": "9OEoeosRTv-5",
        "colab": {
          "base_uri": "https://localhost:8080/"
        },
        "outputId": "2d441899-41bd-4c5f-c30f-68b9bd79aed6"
      },
      "outputs": [
        {
          "output_type": "stream",
          "name": "stdout",
          "text": [
            "\u001b[?25l     \u001b[90m━━━━━━━━━━━━━━━━━━━━━━━━━━━━━━━━━━━━━━━━\u001b[0m \u001b[32m0.0/150.7 kB\u001b[0m \u001b[31m?\u001b[0m eta \u001b[36m-:--:--\u001b[0m\r\u001b[2K     \u001b[91m━━━━━━━━━━\u001b[0m\u001b[91m╸\u001b[0m\u001b[90m━━━━━━━━━━━━━━━━━━━━━━━━━━━━━\u001b[0m \u001b[32m41.0/150.7 kB\u001b[0m \u001b[31m1.2 MB/s\u001b[0m eta \u001b[36m0:00:01\u001b[0m\r\u001b[2K     \u001b[90m━━━━━━━━━━━━━━━━━━━━━━━━━━━━━━━━━━━━━━━━\u001b[0m \u001b[32m150.7/150.7 kB\u001b[0m \u001b[31m2.4 MB/s\u001b[0m eta \u001b[36m0:00:00\u001b[0m\n",
            "\u001b[?25h\u001b[?25l     \u001b[90m━━━━━━━━━━━━━━━━━━━━━━━━━━━━━━━━━━━━━━━━\u001b[0m \u001b[32m0.0/677.8 kB\u001b[0m \u001b[31m?\u001b[0m eta \u001b[36m-:--:--\u001b[0m\r\u001b[2K     \u001b[91m━━━━━━━━━━━━━━━━━━━━━━\u001b[0m\u001b[91m╸\u001b[0m\u001b[90m━━━━━━━━━━━━━━━━━\u001b[0m \u001b[32m389.1/677.8 kB\u001b[0m \u001b[31m15.7 MB/s\u001b[0m eta \u001b[36m0:00:01\u001b[0m\r\u001b[2K     \u001b[91m━━━━━━━━━━━━━━━━━━━━━━━━━━━━━━━━━━━━━━━\u001b[0m\u001b[91m╸\u001b[0m \u001b[32m675.8/677.8 kB\u001b[0m \u001b[31m10.5 MB/s\u001b[0m eta \u001b[36m0:00:01\u001b[0m\r\u001b[2K     \u001b[90m━━━━━━━━━━━━━━━━━━━━━━━━━━━━━━━━━━━━━━━━\u001b[0m \u001b[32m677.8/677.8 kB\u001b[0m \u001b[31m8.9 MB/s\u001b[0m eta \u001b[36m0:00:00\u001b[0m\n",
            "\u001b[?25h"
          ]
        }
      ],
      "source": [
        "!pip install -q -U google-generativeai"
      ]
    },
    {
      "cell_type": "markdown",
      "metadata": {
        "id": "KCFF5VSTbcAR"
      },
      "source": [
        "### Import packages"
      ]
    },
    {
      "cell_type": "code",
      "execution_count": null,
      "metadata": {
        "id": "TS9l5igubpHO"
      },
      "outputs": [],
      "source": [
        "import pathlib\n",
        "import textwrap\n",
        "import PIL.Image\n",
        "import google.generativeai as genai\n",
        "import pandas as pd\n",
        "from IPython.display import display\n",
        "from IPython.display import Markdown\n",
        "import os\n",
        "from tqdm import tqdm\n",
        "import time\n",
        "\n",
        "from langchain_google_genai import ChatGoogleGenerativeAI\n",
        "from langchain.chains import ConversationChain, LLMChain\n",
        "from langchain.memory import ConversationBufferMemory\n",
        "\n",
        "def to_markdown(text):\n",
        "  text = text.replace('•', '  *')\n",
        "  return Markdown(textwrap.indent(text, '> ', predicate=lambda _: True))\n",
        "\n",
        "from google.generativeai.types import HarmCategory, HarmBlockThreshold\n"
      ]
    },
    {
      "cell_type": "code",
      "execution_count": null,
      "metadata": {
        "id": "eM4IvRr2Tte4",
        "colab": {
          "base_uri": "https://localhost:8080/"
        },
        "outputId": "11f970dc-bc5c-42d1-e248-f7323c6304a3"
      },
      "outputs": [
        {
          "output_type": "stream",
          "name": "stdout",
          "text": [
            "Drive already mounted at /content/drive; to attempt to forcibly remount, call drive.mount(\"/content/drive\", force_remount=True).\n"
          ]
        }
      ],
      "source": [
        "from google.colab import drive # подключаем google диск\n",
        "drive.mount('/content/drive')"
      ]
    },
    {
      "cell_type": "code",
      "execution_count": null,
      "metadata": {
        "id": "d10c38a5c91f"
      },
      "outputs": [],
      "source": [
        "# Used to securely store your API key\n",
        "from google.colab import userdata"
      ]
    },
    {
      "cell_type": "markdown",
      "metadata": {
        "id": "tHhsUxDTdw0W"
      },
      "source": [
        "In Colab, add the key to the secrets manager under the \"🔑\" in the left panel. Give it the name `GOOGLE_API_KEY`."
      ]
    },
    {
      "cell_type": "code",
      "execution_count": null,
      "metadata": {
        "id": "ab9ASynfcIZn"
      },
      "outputs": [],
      "source": [
        "# Or use `os.getenv('GOOGLE_API_KEY')` to fetch an environment variable.\n",
        "GOOGLE_API_KEY=userdata.get('GOOGLE_API_KEY')\n",
        "\n",
        "genai.configure(api_key=GOOGLE_API_KEY)"
      ]
    },
    {
      "cell_type": "markdown",
      "metadata": {
        "id": "8ssbTMNVSMd-"
      },
      "source": [
        "## List models\n",
        "Ограничение скорости для моделей Gemini-Pro составляет 60 запросов в минуту (RPM)."
      ]
    },
    {
      "cell_type": "markdown",
      "metadata": {
        "id": "MCzr5ZpNhxLm"
      },
      "source": [
        "## Generate text from image and text inputs\n",
        "\n",
        "Gemini принимает как текст, так и изображения на вход. API GenerativeModel.generate_content предназначен для обработки мультимодальных запросов и возвращает текстовый вывод."
      ]
    },
    {
      "cell_type": "code",
      "execution_count": null,
      "metadata": {
        "id": "uOpmmiGbT7AM"
      },
      "outputs": [],
      "source": [
        "crit1 = PIL.Image.open('/content/drive/MyDrive/диплом/test/crit1.png') #критерии отбора пациентов\n",
        "crit2 = PIL.Image.open('/content/drive/MyDrive/диплом/test/crit2.png')\n",
        "crit3 = PIL.Image.open('/content/drive/MyDrive/диплом/test/crit3.png')"
      ]
    },
    {
      "cell_type": "code",
      "execution_count": null,
      "metadata": {
        "id": "NGjt7vl2Q6TJ"
      },
      "outputs": [],
      "source": [
        "hw_img1 = PIL.Image.open('/content/drive/MyDrive/диплом/test/photo/photo1.jpg') # рукописная карта пациента\n",
        "hw_img2 = PIL.Image.open('/content/drive/MyDrive/диплом/test/photo/photo2.jpg')\n",
        "hw_img3 = PIL.Image.open('/content/drive/MyDrive/диплом/test/photo/photo3.jpg')\n",
        "hw_img4 = PIL.Image.open('/content/drive/MyDrive/диплом/test/photo/photo4.jpg')\n",
        "hw_img5 = PIL.Image.open('/content/drive/MyDrive/диплом/test/photo/photo5.jpg')\n",
        "hw_img6 = PIL.Image.open('/content/drive/MyDrive/диплом/test/photo/photo6.jpg')\n",
        "hw_img7 = PIL.Image.open('/content/drive/MyDrive/диплом/test/photo/photo7.jpg')\n",
        "hw_img8 = PIL.Image.open('/content/drive/MyDrive/диплом/test/photo/photo8.jpg')\n",
        "hw_img9 = PIL.Image.open('/content/drive/MyDrive/диплом/test/photo/photo9.jpg')\n",
        "hw_img10 = PIL.Image.open('/content/drive/MyDrive/диплом/test/photo/photo10.jpg')\n",
        "hw_img11 = PIL.Image.open('/content/drive/MyDrive/диплом/test/photo/photo11.jpg')\n",
        "hw_img12 = PIL.Image.open('/content/drive/MyDrive/диплом/test/photo/photo12.jpg')"
      ]
    },
    {
      "cell_type": "code",
      "execution_count": null,
      "metadata": {
        "id": "CjnS0vNTsVis"
      },
      "outputs": [],
      "source": [
        "img1 = PIL.Image.open('/content/drive/MyDrive/диплом/test/text/test1.png') # карта пациента\n",
        "img2 = PIL.Image.open('/content/drive/MyDrive/диплом/test/text/test2.png')\n",
        "img3 = PIL.Image.open('/content/drive/MyDrive/диплом/test/text/test3.png')\n",
        "img4 = PIL.Image.open('/content/drive/MyDrive/диплом/test/text/test4.png')\n",
        "img5 = PIL.Image.open('/content/drive/MyDrive/диплом/test/text/test5.png')\n",
        "img6 = PIL.Image.open('/content/drive/MyDrive/диплом/test/text/test6.png')\n",
        "img7 = PIL.Image.open('/content/drive/MyDrive/диплом/test/text/test7.png')\n",
        "img8 = PIL.Image.open('/content/drive/MyDrive/диплом/test/text/test8.png')\n",
        "img9 = PIL.Image.open('/content/drive/MyDrive/диплом/test/text/test9.png')\n",
        "img10 = PIL.Image.open('/content/drive/MyDrive/диплом/test/text/test10.png')\n",
        "img11 = PIL.Image.open('/content/drive/MyDrive/диплом/test/text/test11.png')\n",
        "img12 = PIL.Image.open('/content/drive/MyDrive/диплом/test/text/test12.png')"
      ]
    },
    {
      "cell_type": "code",
      "execution_count": null,
      "metadata": {
        "id": "EtXxgVzmJZzE"
      },
      "outputs": [],
      "source": [
        "#model = genai.GenerativeModel('gemini-pro-vision', generation_config={\"temperature\": 0.0})    #gemini-pro-vision"
      ]
    },
    {
      "cell_type": "code",
      "source": [
        "model = genai.GenerativeModel('gemini-1.5-pro-latest', generation_config={\"temperature\": 0.0})  #gemini-1.5-pro-latest"
      ],
      "metadata": {
        "id": "zHFDgKXiZ5zH"
      },
      "execution_count": null,
      "outputs": []
    },
    {
      "cell_type": "code",
      "execution_count": null,
      "metadata": {
        "id": "GwYifv298Cj3"
      },
      "outputs": [],
      "source": [
        "response = model.generate_content(img1)            # подаем в модель карту пациента, без промпта. Она сразу дает рекомендации\n",
        "to_markdown(response.text)"
      ]
    },
    {
      "cell_type": "code",
      "execution_count": null,
      "metadata": {
        "id": "aHTvJJqiskb3"
      },
      "outputs": [],
      "source": [
        "text_crit1 = '''\n",
        "Clinical Trial Criteria: {\n",
        "Inclusion Criteria:\n",
        "Subjects must have smoked on average of at least ten cigarettes per day during the past year;\n",
        "Patient weighs more than 220 pounds.\n",
        "\n",
        "Exclusion Criteria:\n",
        "Subjects with any history of clinically significant cardiovascular disease;\n",
        "Uncontrolled hypertension. }'''  # текстовое описание критерия"
      ]
    },
    {
      "cell_type": "code",
      "source": [
        "text_crit2 = '''\n",
        "Clinical Trial Criteria: {\n",
        "Inclusion Criteria:\n",
        "Required:\n",
        "At least 18 years old;\n",
        "Documented HIV infection.\n",
        "\n",
        "Exclusion Criteria:\n",
        "Active infectious diseases, except HIV;\n",
        "Diabetes prior to starting HIV medications;\n",
        "Alcohol or drug abuse;\n",
        "Cancer or lymphoma. }'''"
      ],
      "metadata": {
        "id": "yw2-_IYyZJSk"
      },
      "execution_count": null,
      "outputs": []
    },
    {
      "cell_type": "code",
      "source": [
        "text_crit3 = '''Clinical Trial Criteria:{\n",
        "Inclusion criteria:\n",
        "Age 16 to 59 years;\n",
        "Infectious inflammatory diseases of throat and ears (tonsillitis, pharyngitis, otitis, etc.) recurring more than 3 times per year;\n",
        "No history of allergic reactions.\n",
        "\n",
        "Exclusion criteria:\n",
        "Past surgical interventions on ENT organs;\n",
        "Presence of other infectious diseases (tuberculosis, hepatitis, HIV, etc.) }'''"
      ],
      "metadata": {
        "id": "ddzTpVe7Zfrb"
      },
      "execution_count": null,
      "outputs": []
    },
    {
      "cell_type": "code",
      "execution_count": null,
      "metadata": {
        "id": "rX_7dxF4hm8n"
      },
      "outputs": [],
      "source": [
        "prompt_zero_shot = '''This is the patient selection criterion for a medical study.\n",
        "Next, I will show you patient cards and ask if this patient fits the criteria for this study,\n",
        "and you should answer: yes or no'''  #промпт yes/no  (zero shot)"
      ]
    },
    {
      "cell_type": "code",
      "execution_count": null,
      "metadata": {
        "id": "DKsp9_kkI8v9"
      },
      "outputs": [],
      "source": [
        "prompt_few_shot = '''This is the criterion for selecting patients for medical research.\n",
        "Next, I will show you the medical records of the patients and ask if this patient meets the criteria for this study. This is necessary to make a decision:\n",
        "YES, the patient is suitable or NO, the patient is not suitable.\n",
        "For example,\n",
        "Clinical trial criteria:{\n",
        "Inclusion criteria:\n",
        "- Patients should have smoked an average of at least ten cigarettes a day over the past year\n",
        "- The patient's weight exceeded 220 pounds\n",
        "Exclusion criteria:\n",
        "- Patients with a history of clinically significant cardiovascular diseases\n",
        "- Uncontrolled arterial hypertension}\n",
        "Patient's chart: A 44-year-old man weighing 250 pounds complains of severe pain in his left heel.\n",
        "He says he has been experiencing this pain for about two weeks now.\n",
        "The patient appears to have a pigmentation disorder on the arms, legs and other parts of the body, including the face, which may or may not change over time.\n",
        "He has erythematous shingles in the form of moccasins on the plantar surfaces of both feet.  He has redness of the 2nd, 3rd and 4th toes of his right foot.\n",
        "Answer: there is no evidence that the patient smokes, so he does not meet the inclusion criteria. Conclusion - no, the patient is not suitable.''' # промпт few-shot"
      ]
    },
    {
      "cell_type": "code",
      "execution_count": null,
      "metadata": {
        "id": "0en71L6YoU6C"
      },
      "outputs": [],
      "source": [
        "prompt_CoT = '''This is the criterion for selecting patients for medical research.\n",
        "Next, I will show you the patient cards and ask if this patient meets the criteria for this study.\n",
        "Think and answer step by step, making up a logical chain of reasoning, the result of which should be the answer:\n",
        "yes - the patient is suitable for research or no - the patient is not suitable for research.''' #промпт CoT"
      ]
    },
    {
      "cell_type": "code",
      "source": [
        "prompt_ToT = '''This is the criterion for selecting patients for medical research.\n",
        "Next, I will show you the patient cards and ask if this patient meets the criteria for this study.\n",
        "Imagine that three experts in the field answer a question.\n",
        "All the experts take turns writing down the first step of their reasoning,\n",
        "then discussing it with the group.\n",
        "Then they move on to the second step of reasoning and so on.\n",
        "If some expert realized that he was wrong, then he leaves. As a result, experts should give a conclusion:\n",
        "yes, the patient is suitable for research or not - the patient is not suitable for research.'''"
      ],
      "metadata": {
        "id": "ahHUhxp1Zng6"
      },
      "execution_count": null,
      "outputs": []
    },
    {
      "cell_type": "markdown",
      "source": [
        "## Попросим модель прочитать все рукописные изображения и проанализируем наличие ошибок"
      ],
      "metadata": {
        "id": "Dyx7ruQ_DxAU"
      }
    },
    {
      "cell_type": "code",
      "source": [
        "read_1 = model.generate_content(['read the patient card and retell it', hw_img1])   # рукописный текст\n",
        "read_1.resolve()\n",
        "to_markdown(read_1.text)"
      ],
      "metadata": {
        "colab": {
          "base_uri": "https://localhost:8080/",
          "height": 114
        },
        "id": "DRs8zp9mbisE",
        "outputId": "6b34bbce-b066-4621-f73a-3c9a3f90509b"
      },
      "execution_count": null,
      "outputs": [
        {
          "output_type": "execute_result",
          "data": {
            "text/plain": [
              "<IPython.core.display.Markdown object>"
            ],
            "text/markdown": ">  Patient is a 55-year-old male who presents with complaints of shortness of breath with exertion, morning cough, and periodic leg swelling. He has a history of smoking an average of 15 cigarettes per day for the past 20 years. He weighs 285 lbs at 5'11\" (BMI = 38.5 kg/m2) and leads a sedentary lifestyle. He drinks alcohol occasionally. He was diagnosed with asthma in 2002 and receives maintenance bronchodilator therapy. His blood pressure is 160-165 mm Hg systolic and 100 mm Hg diastolic. He has a past medical history of obesity since 2000."
          },
          "metadata": {},
          "execution_count": 75
        }
      ]
    },
    {
      "cell_type": "markdown",
      "source": [
        "1.5  \n",
        "The patient is a 55-year-old man. His chief complaints are shortness of breath with exertion, morning cough, and periodic leg swelling.\n",
        "\n",
        "His history includes smoking an average of 15 cigarettes per day for the past 30 years. He weighs 225 lbs at 5'11\" (BMI = 38.5 kg/m2). He leads a sedentary lifestyle and drinks alcohol occasionally.\n",
        "\n",
        "He was diagnosed with asthma in 2002 and receives maintenance bronchodilator therapy. His blood pressure is systolic 160-165 mmHg and diastolic 110-110 mmHg.\n",
        "\n",
        "His past medical history includes Class 2-3 obesity since 2000.  \n",
        "1.0  \n",
        "Patient is a 55-year-old male who presents with complaints of shortness of breath with exertion, morning cough, and periodic leg swelling. He has a history of smoking an average of 15 cigarettes per day for the past 20 years. He weighs 285 lbs at 5'11\" (BMI = 38.5 kg/m2) and leads a sedentary lifestyle. He drinks alcohol occasionally. He was diagnosed with asthma in 2002 and receives maintenance bronchodilator therapy. His blood pressure is 160-165 mm Hg systolic and 100 mm Hg diastolic. He has a past medical history of obesity since 2000."
      ],
      "metadata": {
        "id": "gHQP99xgSh59"
      }
    },
    {
      "cell_type": "code",
      "source": [
        "read_1t = model.generate_content(['read the patient card and retell it', img1])\n",
        "read_1t.resolve()\n",
        "to_markdown(read_1t.text)"
      ],
      "metadata": {
        "colab": {
          "base_uri": "https://localhost:8080/",
          "height": 97
        },
        "id": "2rCQWkKKMrhI",
        "outputId": "5f7c50ab-65c0-46ff-bf2b-61e0c8cf81f4"
      },
      "execution_count": null,
      "outputs": [
        {
          "output_type": "execute_result",
          "data": {
            "text/plain": [
              "<IPython.core.display.Markdown object>"
            ],
            "text/markdown": ">  A 55-year-old male complains of **shortness of breath** with exertion and **morning cough**. He has a **history of asthma** and is on maintenance budesonide therapy. His **blood pressure is 160-165/100-110 mm Hg**. He is **obese** (BMI = 38.5 kg/m2) and has **class 2-3 obesity** since 2000. He also has **periodic leg swelling**."
          },
          "metadata": {},
          "execution_count": 76
        }
      ]
    },
    {
      "cell_type": "markdown",
      "source": [
        "1.5  \n",
        "This is a 55-year-old male patient presenting with shortness of breath upon exertion and a morning cough. He also experiences periodic leg swelling. He has a history of smoking 15 cigarettes per day for the past 20 years. He weighs 275 lbs and is 5'11\" tall, giving him a BMI of 38.5 kg/m2. He leads a sedentary lifestyle and drinks alcohol occasionally. He was diagnosed with asthma in 2002 and receives maintenance budesonide therapy. His blood pressure is 160-165 mmHg systolic and 100-110 mmHg diastolic. His past medical history includes Class 2-3 obesity since 2000.  \n",
        "1.0  \n",
        "A 55-year-old male complains of shortness of breath with exertion and morning cough. He has a history of asthma and is on maintenance budesonide therapy. His blood pressure is 160-165/100-110 mm Hg. He is obese (BMI = 38.5 kg/m2) and has class 2-3 obesity since 2000. He also has periodic leg swelling."
      ],
      "metadata": {
        "id": "aJqjk6a7S928"
      }
    },
    {
      "cell_type": "code",
      "source": [
        "read_2 = model.generate_content(['read the patient card and retell it', hw_img2])  # рукописный текст\n",
        "read_2.resolve()\n",
        "to_markdown(read_2.text)"
      ],
      "metadata": {
        "id": "dGXrCMLcGiB8",
        "colab": {
          "base_uri": "https://localhost:8080/",
          "height": 114
        },
        "outputId": "19451361-077c-40b5-aa87-b1fcb2818227"
      },
      "execution_count": null,
      "outputs": [
        {
          "output_type": "execute_result",
          "data": {
            "text/plain": [
              "<IPython.core.display.Markdown object>"
            ],
            "text/markdown": ">  A 38-year-old female accountant works in a small company. Due to work, she leads a sedentary lifestyle. She often suffers from tonsillitis and the flu. Her mother struggled with heart disease throughout her life and died of a heart attack at the age of 52. At the age of 37, she was diagnosed with HIV. Since then, she has been taking Atripla regularly. After starting treatment, she developed weakness and fatigue. She used to smoke a lot but gave up the habit a year ago."
          },
          "metadata": {},
          "execution_count": 77
        }
      ]
    },
    {
      "cell_type": "markdown",
      "source": [
        "1.5  \n",
        "A 38-year-old woman works as an accountant in a small company. Due to work, she leads a sedentary lifestyle. She often suffers from tonsillitis and flu. Her mother struggled with heart disease throughout her life and died of a heart attack at age 52. At the age of 37, she was diagnosed with HIV. Since then, she has been taking Atripla regularly. After starting treatment, she developed weakness and fatigue. She used to smoke a lot, but gave up the habit a year ago.  \n",
        "1.0  \n",
        "A 38-year-old female accountant works in a small company. Due to work, she leads a sedentary lifestyle. She often suffers from tonsillitis and the flu. Her mother struggled with heart disease throughout her life and died of a heart attack at the age of 52. At the age of 37, she was diagnosed with HIV. Since then, she has been taking Atripla regularly. After starting treatment, she developed weakness and fatigue. She used to smoke a lot but gave up the habit a year ago."
      ],
      "metadata": {
        "id": "hFoPM8ouTKtX"
      }
    },
    {
      "cell_type": "code",
      "source": [
        "read_2t = model.generate_content(['read the patient card and retell it', img2])\n",
        "read_2t.resolve()\n",
        "to_markdown(read_2t.text)"
      ],
      "metadata": {
        "colab": {
          "base_uri": "https://localhost:8080/",
          "height": 97
        },
        "id": "nyvq8bs0Njxo",
        "outputId": "fa266530-2102-4d03-d7fb-2a855d7216ae"
      },
      "execution_count": null,
      "outputs": [
        {
          "output_type": "execute_result",
          "data": {
            "text/plain": [
              "<IPython.core.display.Markdown object>"
            ],
            "text/markdown": ">  A 38-year-old female accountant presents with complaints of fatigue and weakness. She has a history of frequent tonsillitis and influenza, as well as a family history of heart disease. Her mother died of a heart attack at age 52. The patient was diagnosed with HIV at age 37 and has been taking Atripla since then. She used to smoke but quit a year ago."
          },
          "metadata": {},
          "execution_count": 78
        }
      ]
    },
    {
      "cell_type": "markdown",
      "source": [
        "1.5  \n",
        "This is a 38-year-old woman who works as an accountant and leads a sedentary lifestyle. She frequently experiences tonsillitis and the flu. Her mother had a history of heart disease and passed away from a heart attack at the age of 52. At 37, the patient was diagnosed with HIV and has been taking Atripla regularly since then. After starting treatment, she developed weakness and fatigue. She used to be a heavy smoker but quit a year ago.  \n",
        "1.0  \n",
        "A 38-year-old female accountant presents with complaints of fatigue and weakness. She has a history of frequent tonsillitis and influenza, as well as a family history of heart disease. Her mother died of a heart attack at age 52. The patient was diagnosed with HIV at age 37 and has been taking Atripla since then. She used to smoke but quit a year ago."
      ],
      "metadata": {
        "id": "ULLWZqppT7n8"
      }
    },
    {
      "cell_type": "code",
      "source": [
        "read_3 = model.generate_content(['read the patient card and retell it', hw_img3]) # рукописный текст\n",
        "read_3.resolve()\n",
        "to_markdown(read_3.text)"
      ],
      "metadata": {
        "id": "k3XjbVSqGio1",
        "colab": {
          "base_uri": "https://localhost:8080/",
          "height": 149
        },
        "outputId": "4c1b41cb-6725-4386-91fb-c7eefaeccf9c"
      },
      "execution_count": null,
      "outputs": [
        {
          "output_type": "execute_result",
          "data": {
            "text/plain": [
              "<IPython.core.display.Markdown object>"
            ],
            "text/markdown": ">  A 56-year-old man works as an assistant to the captain on a long-haul cargo ship. Due to the specifics of his job, he suffers from chronic inflammation of the middle ear and complains of poor hearing. In his medical history, he has had rheumatoid arthritis for the last 6 years. he says that he periodically takes Prednisone and Arava. According to the patient, the rheumatologist did not want him to take long-term medication, so he would give him Prednisone, then switch to Arava, and then switch him back to Prednisone again. he reports having taken Prednisone for the last 6-9 months. At the time of admission, the patient's blood pressure is 135/80 mmHg, height is 193 cm, weight is 130 kg, and he does not consume alcohol. He smokes up to 20 cigarettes a day."
          },
          "metadata": {},
          "execution_count": 79
        }
      ]
    },
    {
      "cell_type": "markdown",
      "source": [
        "1.5  \n",
        "A 56-year-old man works as an assistant to the captain on a long-haul cargo ship. Due to the specifics of his job, he suffers from chronic inflammation of the middle ear and complains of poor hearing. In his medical history, he has had rheumatoid arthritis for the last 6 years. He says that he periodically takes Prednisone and Arava. According to the patient, the rheumatologist did not want him to take long-term medication, so he would give him Prednisone, then switch to Arava, and then switch him back to Prednisone again. He reports having taken Prednisone for the last 6-9 months. At the time of admission, the patient's blood pressure is 135/80 mm Hg, height is 193 cm, weight is 130 kg, and he does not consume alcohol. He smokes up to 20 cigarettes a day.  \n",
        "1.0  \n",
        "A 56-year-old man works as an assistant to the captain on a long-haul cargo ship. Due to the specifics of his job, he suffers from chronic inflammation of the middle ear and complains of poor hearing. In his medical history, he has had rheumatoid arthritis for the last 6 years. he says that he periodically takes Prednisone and Arava. According to the patient, the rheumatologist did not want him to take long-term medication, so he would give him Prednisone, then switch to Arava, and then switch him back to Prednisone again. he reports having taken Prednisone for the last 6-9 months. At the time of admission, the patient's blood pressure is 135/80 mmHg, height is 193 cm, weight is 130 kg, and he does not consume alcohol. He smokes up to 20 cigarettes a day."
      ],
      "metadata": {
        "id": "alNC70OtUGz_"
      }
    },
    {
      "cell_type": "code",
      "source": [
        "read_3t = model.generate_content(['read the patient card and retell it', img3])\n",
        "read_3t.resolve()\n",
        "to_markdown(read_3t.text)"
      ],
      "metadata": {
        "colab": {
          "base_uri": "https://localhost:8080/",
          "height": 149
        },
        "id": "6tjUoU3oOu9T",
        "outputId": "c3fb24c9-19f8-477a-cd7c-d6bd3d921eb5"
      },
      "execution_count": null,
      "outputs": [
        {
          "output_type": "execute_result",
          "data": {
            "text/plain": [
              "<IPython.core.display.Markdown object>"
            ],
            "text/markdown": ">  A 56-year-old man works as an assistant to the captain on a long-haul cargo ship. Due to the specifics of his job, he suffers from chronic inflammations of the middle ear and complains of poor hearing. In his medical history, he has had rheumatoid arthritis for the last 6 years. He says that he periodically takes Prednisone and Arava. According to the patient, the rheumatologist did not want him to take long-term medication, so he would give him Prednisone, then switch to Arava, and then switch him back to Prednisone again. He reports having taken Prednisone for the last 6-9 months. At the time of admission, the patient's blood pressure is 125/80 mmHg. Height is 193 cm, weight is 130 kg, and he does not consume alcohol. He smokes up to 20 cigarettes a day."
          },
          "metadata": {},
          "execution_count": 80
        }
      ]
    },
    {
      "cell_type": "markdown",
      "source": [
        "1.5  \n",
        "The patient is a 56-year-old man who works as an assistant to the captain on a long-haul cargo ship. His job has caused chronic middle ear inflammation, leading to poor hearing. He has a 6-year history of rheumatoid arthritis and takes Prednisone and Arava periodically. His rheumatologist prefers to avoid long-term medication, so he cycles the patient between Prednisone and Arava. The patient has been on Prednisone for the past 6-9 months.\n",
        "\n",
        "At the time of admission, his blood pressure is 125/80 mmHg, height is 193 cm, and weight is 130 kg. He does not consume alcohol but smokes up to 20 cigarettes per day.  \n",
        "1.0  \n",
        "A 56-year-old man works as an assistant to the captain on a long-haul cargo ship. Due to the specifics of his job, he suffers from chronic inflammations of the middle ear and complains of poor hearing. In his medical history, he has had rheumatoid arthritis for the last 6 years. He says that he periodically takes Prednisone and Arava. According to the patient, the rheumatologist did not want him to take long-term medication, so he would give him Prednisone, then switch to Arava, and then switch him back to Prednisone again. He reports having taken Prednisone for the last 6-9 months. At the time of admission, the patient's blood pressure is 125/80 mmHg. Height is 193 cm, weight is 130 kg, and he does not consume alcohol. He smokes up to 20 cigarettes a day."
      ],
      "metadata": {
        "id": "mmDrSJkXUOEr"
      }
    },
    {
      "cell_type": "code",
      "source": [
        "read_4 = model.generate_content(['read the patient card and retell it', hw_img4])  # рукописный текст\n",
        "read_4.resolve()\n",
        "to_markdown(read_4.text)"
      ],
      "metadata": {
        "id": "vLPl3TcdGi_u",
        "colab": {
          "base_uri": "https://localhost:8080/",
          "height": 97
        },
        "outputId": "fe3adef9-05ee-4966-b980-f4748353a53b"
      },
      "execution_count": null,
      "outputs": [
        {
          "output_type": "execute_result",
          "data": {
            "text/plain": [
              "<IPython.core.display.Markdown object>"
            ],
            "text/markdown": ">  A 23-year-old male complains of periodic pain in his throat and ears. He has a long history of frequent streptococcal pharyngitis and acute otitis media infections occurring more than three times per year since he was a teenager. He was treated with several courses of antibiotics over the years. Three years ago he had anaphylactic shock from penicillin antibiotics."
          },
          "metadata": {},
          "execution_count": 81
        }
      ]
    },
    {
      "cell_type": "markdown",
      "source": [
        "1.5  \n",
        "This is a patient card for a 23-year-old male. His main complaint is periodic pain in the throat.\n",
        "\n",
        "His history of present illness indicates he has a long history of frequent strep throat/pharyngitis and acute otitis media infections, occurring more than 3 times per year since he was a teenager. He was treated with several courses of antibiotics over the years. Three years ago, he had anaphylactic shock from penicillin antibiotics  \n",
        "1.0  \n",
        "A 23-year-old male complains of periodic pain in his throat and ears. He has a long history of frequent streptococcal pharyngitis and acute otitis media infections occurring more than three times per year since he was a teenager. He was treated with several courses of antibiotics over the years. Three years ago he had anaphylactic shock from penicillin antibiotics."
      ],
      "metadata": {
        "id": "GPdQxhV4UVfG"
      }
    },
    {
      "cell_type": "code",
      "source": [
        "read_4t = model.generate_content(['read the patient card and retell it', img4])\n",
        "read_4t.resolve()\n",
        "to_markdown(read_4t.text)"
      ],
      "metadata": {
        "colab": {
          "base_uri": "https://localhost:8080/",
          "height": 97
        },
        "id": "NtVVHcvAPDAE",
        "outputId": "4291d2dd-d0c1-4bc2-dbbf-6862260a8344"
      },
      "execution_count": null,
      "outputs": [
        {
          "output_type": "execute_result",
          "data": {
            "text/plain": [
              "<IPython.core.display.Markdown object>"
            ],
            "text/markdown": ">  A 23-year-old male complains of periodic pain in his throat and ears. He has a long history of frequent streptococcal pharyngitis and acute otitis media infections, occurring more than 3 times per year since he was a teenager. He was treated with several courses of antibiotics over the years. Three years ago, he had anaphylactic shock from penicillin antibiotics."
          },
          "metadata": {},
          "execution_count": 82
        }
      ]
    },
    {
      "cell_type": "markdown",
      "source": [
        "1.5  \n",
        "This is a 23-year-old male patient presenting with periodic pain in his throat and ears. He has a long history of frequent strep throat and ear infections, occurring more than three times per year since he was a teenager. He has been treated with multiple courses of antibiotics over the years. Three years ago, he experienced anaphylactic shock from penicillin antibiotics.  \n",
        "1.0  \n",
        "A 23-year-old male complains of periodic pain in his throat and ears. He has a long history of frequent streptococcal pharyngitis and acute otitis media infections, occurring more than 3 times per year since he was a teenager. He was treated with several courses of antibiotics over the years. Three years ago, he had anaphylactic shock from penicillin antibiotics."
      ],
      "metadata": {
        "id": "ZhAMdPnyUb2K"
      }
    },
    {
      "cell_type": "code",
      "source": [
        "read_5 = model.generate_content(['read the patient card and retell it', hw_img5])  # рукописный текст\n",
        "read_5.resolve()\n",
        "to_markdown(read_5.text)"
      ],
      "metadata": {
        "id": "Is3GAuDkGjSH",
        "colab": {
          "base_uri": "https://localhost:8080/",
          "height": 114
        },
        "outputId": "78434c3b-fbd8-4885-aab8-e66a62f125ed"
      },
      "execution_count": null,
      "outputs": [
        {
          "output_type": "execute_result",
          "data": {
            "text/plain": [
              "<IPython.core.display.Markdown object>"
            ],
            "text/markdown": ">  The patient is a 42-year-old man who was diagnosed with HIV in 2019. He was started on antiretroviral therapy and had an undetectable viral load. In 2020, he developed significant fat depletion after starting HIV treatment. He also has low leptin levels in his blood and fasting triglycerides of 420 mg/dL. He has a history of lung cancer (non-small cell carcinoma) in 2010, but is currently in remission. He undergoes cancer screening every 6 months. His father passed away from lung cancer. The patient has no chronic infections apart from HIV and does not abuse alcohol or substances."
          },
          "metadata": {},
          "execution_count": 83
        }
      ]
    },
    {
      "cell_type": "markdown",
      "source": [
        "1.5  \n",
        "This is a patient card for a 62-year-old man. He was diagnosed with HIV in 2019. While on antiretroviral therapy, he developed a significant fat depletion after starting HIV treatment. He has low leptin levels in his blood and fasting triglycerides of 920 mg/dL.\n",
        "\n",
        "He has a history of lung cancer (adenocarcinoma) in 2010 and is currently in remission. He undergoes cancer screening every 6 months, and so far, the cancer has passed away from his lung.\n",
        "\n",
        "He has no chronic infections apart from HIV. He does not consume alcohol or abuse any substances.  \n",
        "1.0  \n",
        "The patient is a 42-year-old man who was diagnosed with HIV in 2019. He was started on antiretroviral therapy and had an undetectable viral load. In 2020, he developed significant fat depletion after starting HIV treatment. He also has low leptin levels in his blood and fasting triglycerides of 420 mg/dL. He has a history of lung cancer (non-small cell carcinoma) in 2010, but is currently in remission. He undergoes cancer screening every 6 months. His father passed away from lung cancer. The patient has no chronic infections apart from HIV and does not abuse alcohol or substances."
      ],
      "metadata": {
        "id": "JhkwShdEUkgy"
      }
    },
    {
      "cell_type": "code",
      "source": [
        "read_5t = model.generate_content(['read the patient card and retell it', img5])\n",
        "read_5t.resolve()\n",
        "to_markdown(read_5t.text)"
      ],
      "metadata": {
        "colab": {
          "base_uri": "https://localhost:8080/",
          "height": 138
        },
        "id": "l1VIH0azPRFX",
        "outputId": "214e4da8-05fe-4357-f440-58e2e84daec2"
      },
      "execution_count": null,
      "outputs": [
        {
          "output_type": "execute_result",
          "data": {
            "text/plain": [
              "<IPython.core.display.Markdown object>"
            ],
            "text/markdown": ">  A 42-year-old male was diagnosed with HIV in 2019 and has been on antiretroviral therapy since then. He has a history of lung cancer (adenocarcinoma) in 2010 and is currently in remission. He undergoes cancer screening every 6 months. His father passed away from lung cancer. He has no chronic infections apart from HIV and no history of alcohol or substance abuse.\n> \n> The patient developed significant fat depletion after starting HIV treatment and has low leptin levels in his blood. His fasting triglycerides are 420 mg/dL."
          },
          "metadata": {},
          "execution_count": 84
        }
      ]
    },
    {
      "cell_type": "markdown",
      "source": [
        "1.5  \n",
        "This is a 42-year-old male patient who was diagnosed with HIV in 2019 and is currently on antiretroviral therapy. He experienced significant fat loss after starting HIV treatment and has low leptin levels in his blood. His fasting triglycerides are elevated at 420 mg/dL.\n",
        "\n",
        "He has a history of lung cancer (adenocarcinoma) diagnosed in 2010, which is currently in remission. He undergoes cancer screening every six months. His father passed away from lung cancer.\n",
        "\n",
        "The patient has no chronic infections other than HIV and does not have a history of alcohol or substance abuse.  \n",
        "1.0  \n",
        "A 42-year-old male was diagnosed with HIV in 2019 and has been on antiretroviral therapy since then. He has a history of lung cancer (adenocarcinoma) in 2010 and is currently in remission. He undergoes cancer screening every 6 months. His father passed away from lung cancer. He has no chronic infections apart from HIV and no history of alcohol or substance abuse.\n",
        "\n",
        "The patient developed significant fat depletion after starting HIV treatment and has low leptin levels in his blood. His fasting triglycerides are 420 mg/dL."
      ],
      "metadata": {
        "id": "yzY9hLpAUrRL"
      }
    },
    {
      "cell_type": "code",
      "source": [
        "read_6 = model.generate_content(['read the patient card and retell it', hw_img6])  # рукописный текст\n",
        "read_6.resolve()\n",
        "to_markdown(read_6.text)"
      ],
      "metadata": {
        "id": "kyMMOc9AGjod",
        "colab": {
          "base_uri": "https://localhost:8080/",
          "height": 80
        },
        "outputId": "cd0a6134-b9bf-4d50-fe51-26871ce9d129"
      },
      "execution_count": null,
      "outputs": [
        {
          "output_type": "execute_result",
          "data": {
            "text/plain": [
              "<IPython.core.display.Markdown object>"
            ],
            "text/markdown": ">  The patient is a 31-year-old male who complains of a sore throat and fever up to 38°C. He has a history of recurrent episodes of acute tonsillitis (4-5 times a year) over the past 5 years. He denies any allergic reactions. He is a heavy smoker (smokes a pack a day)."
          },
          "metadata": {},
          "execution_count": 85
        }
      ]
    },
    {
      "cell_type": "markdown",
      "source": [
        "1.5  \n",
        "The patient is a 31-year-old who presents with a sore throat and fever up to 38°C.\n",
        "\n",
        "Over the past 5 years, they have had recurrent episodes of acute tonsillitis, occurring 4-5 times a year.\n",
        "\n",
        "They deny any allergic reactions.\n",
        "\n",
        "The patient is a heavy smoker, smoking a pack a day.  \n",
        "1.0  \n",
        "The patient is a 31-year-old male who complains of a sore throat and fever up to 38°C. He has a history of recurrent episodes of acute tonsillitis (4-5 times a year) over the past 5 years. He denies any allergic reactions. He is a heavy smoker (smokes a pack a day)."
      ],
      "metadata": {
        "id": "ZVAT4awhUybI"
      }
    },
    {
      "cell_type": "code",
      "source": [
        "read_6t = model.generate_content(['read the patient card and retell it', img6])\n",
        "read_6t.resolve()\n",
        "to_markdown(read_6t.text)"
      ],
      "metadata": {
        "colab": {
          "base_uri": "https://localhost:8080/",
          "height": 80
        },
        "id": "CJyL1isLPnmi",
        "outputId": "82e93dfa-eea3-415e-db1d-af72d92934ce"
      },
      "execution_count": null,
      "outputs": [
        {
          "output_type": "execute_result",
          "data": {
            "text/plain": [
              "<IPython.core.display.Markdown object>"
            ],
            "text/markdown": ">  The patient is a 31-year-old male who is a heavy smoker (one pack per day) and has a history of recurrent episodes of acute tonsillitis (4-5 times per year). He denies any allergic reactions. He presents with a sore throat and a fever of 38°C."
          },
          "metadata": {},
          "execution_count": 86
        }
      ]
    },
    {
      "cell_type": "markdown",
      "source": [
        "1.5  \n",
        "The patient is a 31-year-old who presents with a sore throat and fever up to 38°C. They have a history of recurrent episodes of acute tonsillitis, experiencing it 4-5 times per year for the past 5 years. They deny any allergic reactions. The patient is also a heavy smoker, smoking a pack of cigarettes a day.  \n",
        "1.0  \n",
        "The patient is a 31-year-old male who is a heavy smoker (one pack per day) and has a history of recurrent episodes of acute tonsillitis (4-5 times per year). He denies any allergic reactions. He presents with a sore throat and a fever of 38°C."
      ],
      "metadata": {
        "id": "z3fCwXkGU5-t"
      }
    },
    {
      "cell_type": "code",
      "source": [
        "read_7 = model.generate_content(['read the patient card and retell it', hw_img7])  # рукописный текст\n",
        "read_7.resolve()\n",
        "to_markdown(read_7.text)"
      ],
      "metadata": {
        "id": "J6FwUQksGj-B",
        "colab": {
          "base_uri": "https://localhost:8080/",
          "height": 184
        },
        "outputId": "3b141470-28dd-4b3d-a728-a5ae278268d3"
      },
      "execution_count": null,
      "outputs": [
        {
          "output_type": "execute_result",
          "data": {
            "text/plain": [
              "<IPython.core.display.Markdown object>"
            ],
            "text/markdown": ">  A 45-year-old white male with a history of schizophrenia and AIDS was admitted for disorganized and assaultive behaviors while off all medications for the last six months. Psych consult- Schizophrenia. IDENTIFYING DATA CHIEF COMPLAINT: \"I'm in jail because I was involuntarily committed. I'm claiming a 4th-hour Involudntary treatment for grave disability. History of present illness: The patient has minimal insight into the circumstances that resulted in his admission. The patient reports being diagnosed with HIV and AIDS in 1994. Current medications: none. Allergies: no known drug allergies. Social history: The patient lives with his partner. He is unemployed. Details of his educational and occupational history are not currently known. His source of finances is also unknown, though social security disability is presumed. Substance and alcohol history: The patient smoked one to two packs per day for most of the last year. At the time of admission, the patient's blood pressure is 130/85 mmHg, height is 169.0cm, weight is 109.1 kg."
          },
          "metadata": {},
          "execution_count": 87
        }
      ]
    },
    {
      "cell_type": "markdown",
      "source": [
        "1.5  \n",
        "A 55-year-old white male with a history of schizophrenia and AIDS was admitted for disorganized and assaultive behaviors while off all medications for the last six months. Psych consult - schizophrenia. Identifying data, chief complaint: \"I'm in jail because I was wrongly arrested.\" The patient is admitted on a 72-hour involuntary treatment act for grave disability. History of present illness: The patient has minimal insight into the circumstances that resulted in this admission. The patient reports being diagnosed with HIV and AIDS in 1994. Current medications: none; allergies: no known drug allergies. Social and developmental history: The patient lives with his partner. He is unemployed. Details of his educational and occupational history are not currently known. His source of finances is also unknown, though social security disability is presumed. Substance and alcohol history: The patient smoked one to two packs per day for most of the last year. At the time of admission, the patient's blood pressure is 130/85 mmHg, height is 169 cm, weight 104 kg.  \n",
        "1.0  \n",
        "A 45-year-old white male with a history of schizophrenia and AIDS was admitted for disorganized and assaultive behaviors while off all medications for the last six months. Psych consult- Schizophrenia. IDENTIFYING DATA CHIEF COMPLAINT: \"I'm in jail because I was involuntarily committed. I'm claiming a 4th-hour Involudntary treatment for grave disability. History of present illness: The patient has minimal insight into the circumstances that resulted in his admission. The patient reports being diagnosed with HIV and AIDS in 1994. Current medications: none. Allergies: no known drug allergies. Social history: The patient lives with his partner. He is unemployed. Details of his educational and occupational history are not currently known. His source of finances is also unknown, though social security disability is presumed. Substance and alcohol history: The patient smoked one to two packs per day for most of the last year. At the time of admission, the patient's blood pressure is 130/85 mmHg, height is 169.0cm, weight is 109.1 kg."
      ],
      "metadata": {
        "id": "gtfzVcZgU_Rm"
      }
    },
    {
      "cell_type": "code",
      "source": [
        "read_7t = model.generate_content(['read the patient card and retell it', img7])\n",
        "read_7t.resolve()\n",
        "to_markdown(read_7t.text)"
      ],
      "metadata": {
        "colab": {
          "base_uri": "https://localhost:8080/",
          "height": 114
        },
        "id": "NqdrBmAKP1nf",
        "outputId": "7956a18b-5deb-4d02-8829-2360702b1dd1"
      },
      "execution_count": null,
      "outputs": [
        {
          "output_type": "execute_result",
          "data": {
            "text/plain": [
              "<IPython.core.display.Markdown object>"
            ],
            "text/markdown": ">  The patient is a 45-year-old white male with a history of schizophrenia and AIDS. He was admitted for disorganized and assaultive behaviors while off all medications for the last six months. He was arrested and is currently in jail. The patient has minimal insight into the circumstances that resulted in his admission. He reports being diagnosed with HIV and AIDS in 1994. He is unemployed and his source of finances is unknown. He smoked one to two packs of cigarettes per day for most of the last year. His blood pressure is 130/85 mmHg and his height is 169 cm and weight is 101 kg."
          },
          "metadata": {},
          "execution_count": 88
        }
      ]
    },
    {
      "cell_type": "markdown",
      "source": [
        "1.5  \n",
        "The patient is a 45-year-old white male with a history of schizophrenia and AIDS. He was admitted for disorganized and assaultive behaviors after being off all medications for the past six months. He claims he was wrongly arrested and is currently admitted on a 72-hour involuntary treatment act for grave disability. He has minimal insight into the circumstances that resulted in his admission but reports being diagnosed with HIV and AIDS in 1994. He is not currently on any medications and has no known drug allergies. He lives with his partner and is unemployed. Details of his educational and occupational history are unknown, though social security disability is presumed. He smoked one to two packs of cigarettes per day for most of the last year. At the time of admission, his blood pressure was 130/85 mmHg, height is 169 cm, and weight is 101 kg.  \n",
        "1.0  \n",
        "The patient is a 45-year-old white male with a history of schizophrenia and AIDS. He was admitted for disorganized and assaultive behaviors while off all medications for the last six months. He was arrested and is currently in jail. The patient has minimal insight into the circumstances that resulted in his admission. He reports being diagnosed with HIV and AIDS in 1994. He is unemployed and his source of finances is unknown. He smoked one to two packs of cigarettes per day for most of the last year. His blood pressure is 130/85 mmHg and his height is 169 cm and weight is 101 kg."
      ],
      "metadata": {
        "id": "9s1gto7pVKHS"
      }
    },
    {
      "cell_type": "code",
      "source": [
        "read_8 = model.generate_content(['read the patient card and retell it', hw_img8])  # рукописный текст\n",
        "read_8.resolve()\n",
        "to_markdown(read_8.text)"
      ],
      "metadata": {
        "id": "v6r9HPMPGkPB",
        "colab": {
          "base_uri": "https://localhost:8080/",
          "height": 314
        },
        "outputId": "56bbce5d-874b-4c89-d93e-cd7c3fbf5c5c"
      },
      "execution_count": null,
      "outputs": [
        {
          "output_type": "error",
          "ename": "ValueError",
          "evalue": "The `response.text` quick accessor only works when the response contains a valid `Part`, but none was returned. Check the `candidate.safety_ratings` to see if the response was blocked.",
          "traceback": [
            "\u001b[0;31m---------------------------------------------------------------------------\u001b[0m",
            "\u001b[0;31mValueError\u001b[0m                                Traceback (most recent call last)",
            "\u001b[0;32m<ipython-input-89-5642134cd03f>\u001b[0m in \u001b[0;36m<cell line: 3>\u001b[0;34m()\u001b[0m\n\u001b[1;32m      1\u001b[0m \u001b[0mread_8\u001b[0m \u001b[0;34m=\u001b[0m \u001b[0mmodel\u001b[0m\u001b[0;34m.\u001b[0m\u001b[0mgenerate_content\u001b[0m\u001b[0;34m(\u001b[0m\u001b[0;34m[\u001b[0m\u001b[0;34m'read the patient card and retell it'\u001b[0m\u001b[0;34m,\u001b[0m \u001b[0mhw_img8\u001b[0m\u001b[0;34m]\u001b[0m\u001b[0;34m)\u001b[0m\u001b[0;34m\u001b[0m\u001b[0;34m\u001b[0m\u001b[0m\n\u001b[1;32m      2\u001b[0m \u001b[0mread_8\u001b[0m\u001b[0;34m.\u001b[0m\u001b[0mresolve\u001b[0m\u001b[0;34m(\u001b[0m\u001b[0;34m)\u001b[0m\u001b[0;34m\u001b[0m\u001b[0;34m\u001b[0m\u001b[0m\n\u001b[0;32m----> 3\u001b[0;31m \u001b[0mto_markdown\u001b[0m\u001b[0;34m(\u001b[0m\u001b[0mread_8\u001b[0m\u001b[0;34m.\u001b[0m\u001b[0mtext\u001b[0m\u001b[0;34m)\u001b[0m\u001b[0;34m\u001b[0m\u001b[0;34m\u001b[0m\u001b[0m\n\u001b[0m",
            "\u001b[0;32m/usr/local/lib/python3.10/dist-packages/google/generativeai/types/generation_types.py\u001b[0m in \u001b[0;36mtext\u001b[0;34m(self)\u001b[0m\n\u001b[1;32m    399\u001b[0m         \u001b[0mparts\u001b[0m \u001b[0;34m=\u001b[0m \u001b[0mself\u001b[0m\u001b[0;34m.\u001b[0m\u001b[0mparts\u001b[0m\u001b[0;34m\u001b[0m\u001b[0;34m\u001b[0m\u001b[0m\n\u001b[1;32m    400\u001b[0m         \u001b[0;32mif\u001b[0m \u001b[0;32mnot\u001b[0m \u001b[0mparts\u001b[0m\u001b[0;34m:\u001b[0m\u001b[0;34m\u001b[0m\u001b[0;34m\u001b[0m\u001b[0m\n\u001b[0;32m--> 401\u001b[0;31m             raise ValueError(\n\u001b[0m\u001b[1;32m    402\u001b[0m                 \u001b[0;34m\"The `response.text` quick accessor only works when the response contains a valid \"\u001b[0m\u001b[0;34m\u001b[0m\u001b[0;34m\u001b[0m\u001b[0m\n\u001b[1;32m    403\u001b[0m                 \u001b[0;34m\"`Part`, but none was returned. Check the `candidate.safety_ratings` to see if the \"\u001b[0m\u001b[0;34m\u001b[0m\u001b[0;34m\u001b[0m\u001b[0m\n",
            "\u001b[0;31mValueError\u001b[0m: The `response.text` quick accessor only works when the response contains a valid `Part`, but none was returned. Check the `candidate.safety_ratings` to see if the response was blocked."
          ]
        }
      ]
    },
    {
      "cell_type": "markdown",
      "source": [
        "1.5  \n",
        "error  \n",
        "1.0  \n",
        "error"
      ],
      "metadata": {
        "id": "9L_fj4E_XDzS"
      }
    },
    {
      "cell_type": "code",
      "source": [
        "read_8t = model.generate_content(['read the patient card and retell it', img8])\n",
        "read_8t.resolve()\n",
        "to_markdown(read_8t.text)"
      ],
      "metadata": {
        "colab": {
          "base_uri": "https://localhost:8080/",
          "height": 314
        },
        "id": "uxeDD_6qV33L",
        "outputId": "bb5e1dc4-0fc0-421a-ce6a-973f325745db"
      },
      "execution_count": null,
      "outputs": [
        {
          "output_type": "error",
          "ename": "ValueError",
          "evalue": "The `response.text` quick accessor only works when the response contains a valid `Part`, but none was returned. Check the `candidate.safety_ratings` to see if the response was blocked.",
          "traceback": [
            "\u001b[0;31m---------------------------------------------------------------------------\u001b[0m",
            "\u001b[0;31mValueError\u001b[0m                                Traceback (most recent call last)",
            "\u001b[0;32m<ipython-input-90-467dca9a6849>\u001b[0m in \u001b[0;36m<cell line: 3>\u001b[0;34m()\u001b[0m\n\u001b[1;32m      1\u001b[0m \u001b[0mread_8t\u001b[0m \u001b[0;34m=\u001b[0m \u001b[0mmodel\u001b[0m\u001b[0;34m.\u001b[0m\u001b[0mgenerate_content\u001b[0m\u001b[0;34m(\u001b[0m\u001b[0;34m[\u001b[0m\u001b[0;34m'read the patient card and retell it'\u001b[0m\u001b[0;34m,\u001b[0m \u001b[0mimg8\u001b[0m\u001b[0;34m]\u001b[0m\u001b[0;34m)\u001b[0m\u001b[0;34m\u001b[0m\u001b[0;34m\u001b[0m\u001b[0m\n\u001b[1;32m      2\u001b[0m \u001b[0mread_8t\u001b[0m\u001b[0;34m.\u001b[0m\u001b[0mresolve\u001b[0m\u001b[0;34m(\u001b[0m\u001b[0;34m)\u001b[0m\u001b[0;34m\u001b[0m\u001b[0;34m\u001b[0m\u001b[0m\n\u001b[0;32m----> 3\u001b[0;31m \u001b[0mto_markdown\u001b[0m\u001b[0;34m(\u001b[0m\u001b[0mread_8t\u001b[0m\u001b[0;34m.\u001b[0m\u001b[0mtext\u001b[0m\u001b[0;34m)\u001b[0m\u001b[0;34m\u001b[0m\u001b[0;34m\u001b[0m\u001b[0m\n\u001b[0m",
            "\u001b[0;32m/usr/local/lib/python3.10/dist-packages/google/generativeai/types/generation_types.py\u001b[0m in \u001b[0;36mtext\u001b[0;34m(self)\u001b[0m\n\u001b[1;32m    399\u001b[0m         \u001b[0mparts\u001b[0m \u001b[0;34m=\u001b[0m \u001b[0mself\u001b[0m\u001b[0;34m.\u001b[0m\u001b[0mparts\u001b[0m\u001b[0;34m\u001b[0m\u001b[0;34m\u001b[0m\u001b[0m\n\u001b[1;32m    400\u001b[0m         \u001b[0;32mif\u001b[0m \u001b[0;32mnot\u001b[0m \u001b[0mparts\u001b[0m\u001b[0;34m:\u001b[0m\u001b[0;34m\u001b[0m\u001b[0;34m\u001b[0m\u001b[0m\n\u001b[0;32m--> 401\u001b[0;31m             raise ValueError(\n\u001b[0m\u001b[1;32m    402\u001b[0m                 \u001b[0;34m\"The `response.text` quick accessor only works when the response contains a valid \"\u001b[0m\u001b[0;34m\u001b[0m\u001b[0;34m\u001b[0m\u001b[0m\n\u001b[1;32m    403\u001b[0m                 \u001b[0;34m\"`Part`, but none was returned. Check the `candidate.safety_ratings` to see if the \"\u001b[0m\u001b[0;34m\u001b[0m\u001b[0;34m\u001b[0m\u001b[0m\n",
            "\u001b[0;31mValueError\u001b[0m: The `response.text` quick accessor only works when the response contains a valid `Part`, but none was returned. Check the `candidate.safety_ratings` to see if the response was blocked."
          ]
        }
      ]
    },
    {
      "cell_type": "markdown",
      "source": [
        "1.5  \n",
        "A 44-year-old, 250-pound male patient is experiencing extreme pain in his left heel, which is his primary complaint. This pain has been present for approximately two weeks. He works on concrete floors and reports that the pain is particularly intense in the mornings upon waking or after periods of sitting, making walking very difficult.\n",
        "\n",
        "The patient also presents with a macular blotching of the skin on his arms, face, legs, feet, and the rest of his body. He describes this as a pigmentation disorder that he has had since he was 17 years old. Additionally, he has redness and signs of infection in his right toes.\n",
        "\n",
        "Further examination reveals a possible pigmentation disorder, which may or may not change over time, on his arms, legs, and other parts of his body, including his face. He also exhibits an erythematous, moccasin-pattern tinea pedis on the plantar surfaces of both feet, along with redness in toes 2, 3, and 4 of his right foot. Direct pressure on the plantar aspect of his left heel elicits extreme, exquisite pain.  \n",
        "1.0  \n",
        "error"
      ],
      "metadata": {
        "id": "yKandx1vV71z"
      }
    },
    {
      "cell_type": "code",
      "source": [
        "read_9 = model.generate_content(['read the patient card and retell it', hw_img9])  # рукописный текст\n",
        "read_9.resolve()\n",
        "to_markdown(read_9.text)"
      ],
      "metadata": {
        "id": "rMzRns75Gkgg",
        "colab": {
          "base_uri": "https://localhost:8080/",
          "height": 166
        },
        "outputId": "8e818ea5-ab1c-434d-f163-e56aeb878aaf"
      },
      "execution_count": null,
      "outputs": [
        {
          "output_type": "execute_result",
          "data": {
            "text/plain": [
              "<IPython.core.display.Markdown object>"
            ],
            "text/markdown": ">  The patient is a 49-year-old white female. Her weight is 221.5 pounds, blood pressure 128/74, pulse 80, and respirations 16. On examination, this is a flaring of her acne with small folliculitis bid lesions. The patient has been taking amoxicillin 500mg qid, and using Tazorac cream q1, and her face is doing well. She has been out of her medicine now for three days also. She has also been getting photofacials at Healing Waters and was wondering about what we could offer as far as cosmetic procedures and skin care products, etc. The patient is married. She is a secretary. FAMILY, SOCIAL, AND ALLERGY HISTORY: She has hay fever, eczema, sinus, and hives. She has no skin cancers or psoriasis. Her mother had oral cancer. She smokes on average one pack a day. No blood tests. Had some sunburn in the past. She is on benozoyl peroxide and aspirin, vitamins, Lexapro, Edecxor, Ditropan."
          },
          "metadata": {},
          "execution_count": 91
        }
      ]
    },
    {
      "cell_type": "markdown",
      "source": [
        "1.5  \n",
        "The patient is a 49-year-old white female. She weighs 221.5 pounds, her blood pressure is 128/79, her pulse is 80, and her respirations are 16. On examination, she has a flare-up of her acne with small folliculitis lesions. The patient has been taking amoxicillin 500mg b.i.d. and using Tazorac cream q.d., and her face is doing well, but she has been out of her medicine now for three days. She has also been getting photofacials at Healing Waters and was wondering about what we could offer as far as cosmetic procedures and skin care products, etc. The patient is married.\n",
        "\n",
        "FAMILY, SOCIAL, AND ALLERGY HISTORY: She has hay fever, eczema, sinus, and hives. She has no melanoma or skin cancers on psoriasis. She smokes on average one pack a day. Her mother had oral cancer. She sunburn in the past. She is on no blood thinners. Had some.\n",
        "\n",
        "CURRENT MEDICATIONS: Lexapro, Edarbyclor, Ditropan, aspirin, vitamins.  \n",
        "1.0  \n",
        "The patient is a 49-year-old white female. Her weight is 221.5 pounds, blood pressure 128/74, pulse 80, and respirations 16. On examination, this is a flaring of her acne with small folliculitis bid lesions. The patient has been taking amoxicillin 500mg qid, and using Tazorac cream q1, and her face is doing well. She has been out of her medicine now for three days also. She has also been getting photofacials at Healing Waters and was wondering about what we could offer as far as cosmetic procedures and skin care products, etc. The patient is married. She is a secretary. FAMILY, SOCIAL, AND ALLERGY HISTORY: She has hay fever, eczema, sinus, and hives. She has no skin cancers or psoriasis. Her mother had oral cancer. She smokes on average one pack a day. No blood tests. Had some sunburn in the past. She is on benozoyl peroxide and aspirin, vitamins, Lexapro, Edecxor, Ditropan."
      ],
      "metadata": {
        "id": "1ZXNsYimVSZC"
      }
    },
    {
      "cell_type": "code",
      "source": [
        "read_9t = model.generate_content(['read the patient card and retell it', img9])\n",
        "read_9t.resolve()\n",
        "to_markdown(read_9t.text)"
      ],
      "metadata": {
        "colab": {
          "base_uri": "https://localhost:8080/",
          "height": 161
        },
        "id": "l5r2EJFgQkcI",
        "outputId": "3c947a80-7c17-41c5-fc17-c96969ed2cc7"
      },
      "execution_count": null,
      "outputs": [
        {
          "output_type": "execute_result",
          "data": {
            "text/plain": [
              "<IPython.core.display.Markdown object>"
            ],
            "text/markdown": ">  The patient is a 49-year-old white female with a history of acne. She is currently taking amoxicillin 500mg b.i.d. and using Tazorac cream 0.1% for her acne. She has been out of her medication for three days. She is also getting photofacials at Healing Waters and is wondering about what we could offer as far as cosmetic procedures and skin care products.\n> \n> The patient is married and works as a secretary. She has a history of eczema, sinus, and hives. She does not have any known drug allergies. She smokes one pack of cigarettes per day. She has had some sunburn in the past. She is currently taking benzoyl peroxide and Daypro.\n> \n> Her current medications include Lexapro, Effexor, Ditropan, aspirin, and vitamins."
          },
          "metadata": {},
          "execution_count": 92
        }
      ]
    },
    {
      "cell_type": "markdown",
      "source": [
        "1.5  \n",
        "The patient is a 49-year-old white female, weighing 221.5 pounds. Her blood pressure is 128/74, pulse 80, and respirations 16. She presents with a flare-up of acne with small folliculitis lesions. She has been taking amoxicillin 500mg twice a day and using Tazorac cream 0.1, and her face is doing well, but she has been off her medication for three days. She has also been getting photofacials at Healing Waters and is interested in cosmetic procedures and skin care products.\n",
        "\n",
        "She is married and works as a secretary. Her family, social, and allergy history includes hay fever, eczema, sinus, and hives. She has no history of melanoma, skin cancers, or psoriasis. Her mother had oral cancer. She smokes an average of one pack a day and has not had any blood tests. She has experienced sunburn in the past. She is currently using benzoyl peroxide and Daypro.\n",
        "\n",
        "Her current medications are Lexapro, Effexor, Ditropan, aspirin, and vitamins.  \n",
        "1.0  \n",
        "The patient is a 49-year-old white female with a history of acne. She is currently taking amoxicillin 500mg b.i.d. and using Tazorac cream 0.1% for her acne. She has been out of her medication for three days. She is also getting photofacials at Healing Waters and is wondering about what we could offer as far as cosmetic procedures and skin care products.\n",
        "\n",
        "The patient is married and works as a secretary. She has a history of eczema, sinus, and hives. She does not have any known drug allergies. She smokes one pack of cigarettes per day. She has had some sunburn in the past. She is currently taking benzoyl peroxide and Daypro.\n",
        "\n",
        "Her current medications include Lexapro, Effexor, Ditropan, aspirin, and vitamins."
      ],
      "metadata": {
        "id": "cdtaqgV1VatO"
      }
    },
    {
      "cell_type": "code",
      "source": [
        "read_10 = model.generate_content(['read the patient card and retell it', hw_img10])  # рукописный текст\n",
        "read_10.resolve()\n",
        "to_markdown(read_10.text)"
      ],
      "metadata": {
        "id": "LJeva-WsGkvO",
        "colab": {
          "base_uri": "https://localhost:8080/",
          "height": 149
        },
        "outputId": "23f8d9c0-6796-4076-d1e3-f5aa0963c18f"
      },
      "execution_count": null,
      "outputs": [
        {
          "output_type": "execute_result",
          "data": {
            "text/plain": [
              "<IPython.core.display.Markdown object>"
            ],
            "text/markdown": ">  The patient is a 40-year-old gentleman who reports swelling in his left submandibular region that occurred all of a sudden about a month and a half ago. He was originally treated with antibiotics as a possible tooth abscess. Prior to this event, a month ago, he started having night sweats. The patient reports feeling hot, when he went to bed he also reports would wake up soaked. Past medical history: HIV diagnosed in 2000. The patient also had mononucleosis at about that time. Being on anti-hepatitis viral therapy through antiviral treatment. In 2003, he had shingles. He went another small outbreak in 2009 that he treated with topical therapy. Social history: The patient is single, he currently is self employed and does antiquing. He does have a history of smoking as about a thirteen pack year history of smoking, currently smoking about a half a pack per day."
          },
          "metadata": {},
          "execution_count": 93
        }
      ]
    },
    {
      "cell_type": "markdown",
      "source": [
        "1.5  \n",
        "error  \n",
        "1.0  \n",
        "The patient is a 40-year-old gentleman who reports swelling in his left submandibular region that occurred all of a sudden about a month and a half ago. He was originally treated with antibiotics as a possible tooth abscess. Prior to this event, a month ago, he started having night sweats. The patient reports feeling hot, when he went to bed he also reports would wake up soaked. Past medical history: HIV diagnosed in 2000. The patient also had mononucleosis at about that time. Being on anti-hepatitis viral therapy through antiviral treatment. In 2003, he had shingles. He went another small outbreak in 2009 that he treated with topical therapy. Social history: The patient is single, he currently is self employed and does antiquing. He does have a history of smoking as about a thirteen pack year history of smoking, currently smoking about a half a pack per day."
      ],
      "metadata": {
        "id": "Nd2jo_dCViOw"
      }
    },
    {
      "cell_type": "code",
      "source": [
        "read_10t = model.generate_content(['read the patient card and retell it', img10])\n",
        "read_10t.resolve()\n",
        "to_markdown(read_10t.text)"
      ],
      "metadata": {
        "colab": {
          "base_uri": "https://localhost:8080/",
          "height": 114
        },
        "id": "aoj5mHHxQ4ip",
        "outputId": "ae8fbaf9-3630-4e9e-9faa-d3c69ac75a4e"
      },
      "execution_count": null,
      "outputs": [
        {
          "output_type": "execute_result",
          "data": {
            "text/plain": [
              "<IPython.core.display.Markdown object>"
            ],
            "text/markdown": ">  The patient is a 40-year-old gentleman who presents with a one-month history of swelling in his left submandibular region. He was initially treated with antibiotics for a possible tooth abscess. He denies any history of trauma or dental procedures. He has a history of HIV infection and was diagnosed with AIDS in 2000. He also has a history of hepatitis C and was treated with antiviral therapy in 2003. He has a history of smoking and drinks alcohol socially. He is currently unemployed and lives alone."
          },
          "metadata": {},
          "execution_count": 94
        }
      ]
    },
    {
      "cell_type": "markdown",
      "source": [
        "1.5  \n",
        "The patient is a 40-year-old man who presents with swelling in his left submandibular region that started suddenly about a month and a half ago. He was initially treated with antibiotics for a possible tooth abscess. Prior to this, in March 2010, he was treated for strep throat. About a month ago, he began experiencing night sweats, feeling hot, and waking up soaked in sweat.\n",
        "\n",
        "His past medical history is significant for an HIV diagnosis in 2000, at which time he also had mononucleosis. He reports undergoing intense anti-hepatitis viral therapy. In 2003, he had shingles and received antiviral treatment. He also mentions another small outbreak in 2009 that was treated with topical therapy.\n",
        "\n",
        "Socially, the patient is single, self-employed, and enjoys antiquing. He has a smoking history of about 13.5 years and currently smokes about a quarter of a pack per day.  \n",
        "1.0  \n",
        "The patient is a 40-year-old gentleman who presents with a one-month history of swelling in his left submandibular region. He was initially treated with antibiotics for a possible tooth abscess. He denies any history of trauma or dental procedures. He has a history of HIV infection and was diagnosed with AIDS in 2000. He also has a history of hepatitis C and was treated with antiviral therapy in 2003. He has a history of smoking and drinks alcohol socially. He is currently unemployed and lives alone."
      ],
      "metadata": {
        "id": "REnk4ia8WEq6"
      }
    },
    {
      "cell_type": "code",
      "source": [
        "read_11 = model.generate_content(['read the patient card and retell it', hw_img11])  # рукописный текст\n",
        "read_11.resolve()\n",
        "to_markdown(read_11.text)"
      ],
      "metadata": {
        "id": "ApIi7hBWGk9s",
        "colab": {
          "base_uri": "https://localhost:8080/",
          "height": 213
        },
        "outputId": "fbf41fa7-72c3-4575-bfa3-e93930cdcf3c"
      },
      "execution_count": null,
      "outputs": [
        {
          "output_type": "execute_result",
          "data": {
            "text/plain": [
              "<IPython.core.display.Markdown object>"
            ],
            "text/markdown": ">  The patient is a 17-year-old white female who complains of a four-day history of cold symptoms consisting of nasal congestion and left ear pain. She has had a dry cough, but this has not been since the first day.\n> \n> In her review of systems, the patient does note some pressure in her sinuses. She denies any skin rash.\n> \n> On physical examination, her vital signs are temperature 98.2, pulse is 92, respirations are 18, and blood pressure is 110/70. Her general appearance is that of a healthy appearing white female who appears only mildly ill. HEENT: Pupils are round, atraumatic. No history of allergies. Head and neck are free from diseases such as allergic reactions. This is the fourth time in a year that she has had symptoms suggestive of tonsillitis, pharyngitis, and sinusitis. She denies edema, exudate, erythema, tenderness, or ulceration. Sinuses do show some mild anterior/posterior cervical lymph nodes. There is no nuchal rigidity and no meningismus. Her neck has full range of motion without pain. Lungs are clear to auscultation bilaterally without rales, rhonchi, or wheezes. Heart rate and rhythm are regular without murmurs, rubs, or gallops."
          },
          "metadata": {},
          "execution_count": 95
        }
      ]
    },
    {
      "cell_type": "markdown",
      "source": [
        "1.5  \n",
        "The patient is a 17-year-old white female who is complaining of a four-day history of cold symptoms consisting of nasal congestion and left ear pain. She has had a dry cough, but this has not been since the first day.\n",
        "\n",
        "REVIEW OF SYSTEMS: The patient does note some pressure in her sinuses. She denies any skin rash.\n",
        "\n",
        "PHYSICAL EXAMINATION/ VITAL SIGNS: Temp is 36.9, pulse is elevated at 92, other vital signs are all within normal limits.\n",
        "\n",
        "GENERAL: Patient is a healthy-appearing white female, appears only mildly ill. HEENT: Head is normocephalic, atraumatic. No history of allergic reactions. Suffers from diseases such as pharyngitis and sinusitis for the fourth time in a year. Pharynx shows no erythema, tonsillar edema, or exudate. Sinuses do show some mild tenderness to percussion. NECK: No meningismus or enlarged anterior/posterior cervical lymph nodes. HEART: Regular rate and rhythm without murmurs, rubs, or gallops. LUNGS: Clear without rales, rhonchi, or wheezes.   \n",
        "1.0  \n",
        "The patient is a 17-year-old white female who complains of a four-day history of cold symptoms consisting of nasal congestion and left ear pain. She has had a dry cough, but this has not been since the first day.\n",
        "\n",
        "In her review of systems, the patient does note some pressure in her sinuses. She denies any skin rash.\n",
        "\n",
        "On physical examination, her vital signs are temperature 98.2, pulse is 92, respirations are 18, and blood pressure is 110/70. Her general appearance is that of a healthy appearing white female who appears only mildly ill. HEENT: Pupils are round, atraumatic. No history of allergies. Head and neck are free from diseases such as allergic reactions. This is the fourth time in a year that she has had symptoms suggestive of tonsillitis, pharyngitis, and sinusitis. She denies edema, exudate, erythema, tenderness, or ulceration. Sinuses do show some mild anterior/posterior cervical lymph nodes. There is no nuchal rigidity and no meningismus. Her neck has full range of motion without pain. Lungs are clear to auscultation bilaterally without rales, rhonchi, or wheezes. Heart rate and rhythm are regular without murmurs, rubs, or gallops."
      ],
      "metadata": {
        "id": "D7w6l89zWRKk"
      }
    },
    {
      "cell_type": "code",
      "source": [
        "read_11t = model.generate_content(['read the patient card and retell it', img11])\n",
        "read_11t.resolve()\n",
        "to_markdown(read_11ty.text)"
      ],
      "metadata": {
        "colab": {
          "base_uri": "https://localhost:8080/",
          "height": 208
        },
        "id": "swq2SQsWRId0",
        "outputId": "960e7056-1add-43bc-cd85-cd18877e6d7c"
      },
      "execution_count": null,
      "outputs": [
        {
          "output_type": "execute_result",
          "data": {
            "text/plain": [
              "<IPython.core.display.Markdown object>"
            ],
            "text/markdown": "> The patient is a 17-year-old white female presenting with a four-day history of cold symptoms including nasal congestion and left ear pain. She initially had a dry cough, which has since resolved. She reports pressure in her sinuses but denies any skin rash. \n> \n> Her temperature is 36.9 degrees Celsius, and her pulse is elevated at 92 bpm. All other vital signs are within normal limits. \n> \n> She appears healthy and only mildly ill. Her head is normocephalic and atraumatic, with no history of allergic reactions. She has a history of frequent pharyngitis and sinusitis, this being the fourth occurrence this year. \n> \n> Examination reveals no erythema, tonsillar edema, or exudate in the pharynx. Sinuses are mildly tender to percussion. There is no meningismus or enlarged anterior/posterior cervical lymph nodes. \n> \n> Her heart rate and rhythm are regular, with no murmurs, rubs, or gallops. Lungs are clear without rales, rhonchi, or wheezes. \n"
          },
          "metadata": {},
          "execution_count": 96
        }
      ]
    },
    {
      "cell_type": "markdown",
      "source": [
        "1.5  \n",
        "The patient is a 17-year-old white female presenting with a four-day history of cold symptoms including nasal congestion and left ear pain. She initially had a dry cough, which has since resolved. She reports pressure in her sinuses but denies any skin rash.\n",
        "\n",
        "Her temperature is 36.9 degrees Celsius, and her pulse is elevated at 92 bpm. All other vital signs are within normal limits.\n",
        "\n",
        "She appears healthy and only mildly ill. Her head is normocephalic and atraumatic, with no history of allergic reactions. She has a history of frequent pharyngitis and sinusitis, this being the fourth occurrence this year.\n",
        "\n",
        "Examination reveals no erythema, tonsillar edema, or exudate in the pharynx. Sinuses are mildly tender to percussion. There is no meningismus or enlarged anterior/posterior cervical lymph nodes.\n",
        "\n",
        "Her heart rate and rhythm are regular, with no murmurs, rubs, or gallops. Lungs are clear without rales, rhonchi, or wheezes.  \n",
        "1.0  \n",
        "The patient is a 17-year-old white female presenting with a four-day history of cold symptoms including nasal congestion and left ear pain. She initially had a dry cough, which has since resolved. She reports pressure in her sinuses but denies any skin rash.\n",
        "\n",
        "Her temperature is 36.9 degrees Celsius, and her pulse is elevated at 92 bpm. All other vital signs are within normal limits.\n",
        "\n",
        "She appears healthy and only mildly ill. Her head is normocephalic and atraumatic, with no history of allergic reactions. She has a history of frequent pharyngitis and sinusitis, this being the fourth occurrence this year.\n",
        "\n",
        "Examination reveals no erythema, tonsillar edema, or exudate in the pharynx. Sinuses are mildly tender to percussion. There is no meningismus or enlarged anterior/posterior cervical lymph nodes.\n",
        "\n",
        "Her heart rate and rhythm are regular, with no murmurs, rubs, or gallops. Lungs are clear without rales, rhonchi, or wheezes."
      ],
      "metadata": {
        "id": "bMLZzZQgWbfl"
      }
    },
    {
      "cell_type": "code",
      "source": [
        "read_12 = model.generate_content(['read the patient card and retell it', hw_img12])   # рукописный текст\n",
        "read_12.resolve()\n",
        "to_markdown(read_12.text)"
      ],
      "metadata": {
        "id": "QgY_afqvGlNG",
        "colab": {
          "base_uri": "https://localhost:8080/",
          "height": 132
        },
        "outputId": "0f738189-e044-41f3-989b-3b233a6254f6"
      },
      "execution_count": null,
      "outputs": [
        {
          "output_type": "execute_result",
          "data": {
            "text/plain": [
              "<IPython.core.display.Markdown object>"
            ],
            "text/markdown": ">  The patient is a 61-year-old gentleman who presents for further evaluation of feet and hand cramps. He describes that the foot cramps are much more notable than the hand ones. He reports that he develops muscle contractions of his toes on both feet. These occur exclusively at night. He has a history of HIV for 21 years. He was taking antiretroviral medications, but stopped about six or seven years ago. He reports that he was unable to tolerate the medications due to serve stomach upset. He has no known drug allergies. He lives alone. He denies alcohol, tobacco, or illicit drug use. He is now retired. He is very active and walks about four miles every few days."
          },
          "metadata": {},
          "execution_count": 97
        }
      ]
    },
    {
      "cell_type": "markdown",
      "source": [
        "1.5  \n",
        "The patient is a 61-year-old gentleman who presents for further evaluation of feet and hand cramps. He describes that the foot cramps are much more notable than the hand ones. He reports that he develops muscle contractions of his toes on both feet. These occur exclusively at night. He has a history of HIV for 21 years. He was taking antiretroviral medications, but stopped about six or seven years ago. He reports that he was unable to tolerate the medications due to severe stomach upset.\n",
        "\n",
        "ALLERGIES: He has no known drug allergies.\n",
        "\n",
        "Social History: He lives alone. He denies alcohol, tobacco, or illicit drug use. He is now retired. He is very active and walks about four miles every few days.  \n",
        "1.0  \n",
        "The patient is a 61-year-old gentleman who presents for further evaluation of feet and hand cramps. He describes that the foot cramps are much more notable than the hand ones. He reports that he develops muscle contractions of his toes on both feet. These occur exclusively at night. He has a history of HIV for 21 years. He was taking antiretroviral medications, but stopped about six or seven years ago. He reports that he was unable to tolerate the medications due to serve stomach upset. He has no known drug allergies. He lives alone. He denies alcohol, tobacco, or illicit drug use. He is now retired. He is very active and walks about four miles every few days."
      ],
      "metadata": {
        "id": "hOReBrGWWqIg"
      }
    },
    {
      "cell_type": "code",
      "source": [
        "read_12t = model.generate_content(['read the patient card and retell it', img12])\n",
        "read_12t.resolve()\n",
        "to_markdown(read_12t.text)"
      ],
      "metadata": {
        "colab": {
          "base_uri": "https://localhost:8080/",
          "height": 132
        },
        "id": "jM3-Yvj0RWlL",
        "outputId": "18b810b3-0ff7-4629-85a2-89d30bfd6da1"
      },
      "execution_count": null,
      "outputs": [
        {
          "output_type": "execute_result",
          "data": {
            "text/plain": [
              "<IPython.core.display.Markdown object>"
            ],
            "text/markdown": ">  The patient is a 61-year-old gentleman who presents for further evaluation of foot and hand cramps. He describes the foot cramps are much more notable than the hand ones. He reports that he develops muscle contractions of his toes on both feet. These occur exclusively at night. He has a history of HIV for 21 years. He was taking antiretroviral medications, but stopped about six or seven years ago. He reports that he was unable to tolerate the medications due to severe stomach upset. He has no known drug allergies. He lives alone. He denies alcohol, tobacco, or illicit drug use. He is now retired. He is very active and walks about four miles every few days."
          },
          "metadata": {},
          "execution_count": 98
        }
      ]
    },
    {
      "cell_type": "markdown",
      "source": [
        "1.5  \n",
        "The patient is a 61-year-old man who is seeking further evaluation for foot and hand cramps. He experiences foot cramps more severely than hand cramps. He reports muscle contractions in his toes on both feet, occurring exclusively at night. He has a 21-year history of HIV and was previously on antiretroviral medications but stopped approximately six or seven years ago due to severe stomach upset. He has no known drug allergies. He lives alone, denies alcohol, tobacco, or illicit drug use, and is currently retired. He maintains an active lifestyle, walking about four miles every few days  \n",
        "1.0  \n",
        "The patient is a 61-year-old gentleman who presents for further evaluation of foot and hand cramps. He describes the foot cramps are much more notable than the hand ones. He reports that he develops muscle contractions of his toes on both feet. These occur exclusively at night. He has a history of HIV for 21 years. He was taking antiretroviral medications, but stopped about six or seven years ago. He reports that he was unable to tolerate the medications due to severe stomach upset. He has no known drug allergies. He lives alone. He denies alcohol, tobacco, or illicit drug use. He is now retired. He is very active and walks about four miles every few days."
      ],
      "metadata": {
        "id": "eRsdbZ6SSXyP"
      }
    },
    {
      "cell_type": "markdown",
      "metadata": {
        "id": "3fQV_PhMuTLc"
      },
      "source": [
        "## test1 (True=NO)    \n",
        "Вручную на примере первого критеия и первого пациента посмотрим как работает модель Gemini 1.0\n",
        "ttf - text-text-photo  \n",
        "tff - text-photo-photo  \n",
        "ttw - text-text-hand writing  \n",
        "tfw -text-photo-hand writing  \n",
        "0 - zero_shot  \n",
        "2 - few_shot  \n",
        "cot  \n",
        "tot"
      ]
    },
    {
      "cell_type": "code",
      "execution_count": null,
      "metadata": {
        "id": "vm9tUYeT8lBc"
      },
      "outputs": [],
      "source": [
        "response1_ttf0 = model.generate_content([prompt_zero_shot, text_crit1, img1], stream=True)\n",
        "response1_ttf0.resolve()\n",
        "to_markdown(response1_ttf0.text)"
      ]
    },
    {
      "cell_type": "code",
      "execution_count": null,
      "metadata": {
        "id": "hVJOFQtaocnf"
      },
      "outputs": [],
      "source": [
        "response1_ttf2 = model.generate_content([prompt_few_shot, text_crit1, img1], stream=True)\n",
        "response1_ttf2.resolve()\n",
        "to_markdown(response1_ttf2.text)\n",
        "\n",
        "# \"\"\"Inclusion Criteria: Subjects must have smoked on average of at least ten cigarettes per day during the past year; - Yes\n",
        "# Patient weighs more than 220 pounds. - Yes\n",
        "# Exclusion Criteria: Subjects with any history of clinically significant cardiovascular disease; - No\n",
        "# Uncontrolled hypertension. - No)\"\"\""
      ]
    },
    {
      "cell_type": "code",
      "execution_count": null,
      "metadata": {
        "id": "wnXbM3jpr1oF"
      },
      "outputs": [],
      "source": [
        "response1_ttfC = model.generate_content([prompt_CoT, text_crit1, img1], stream=True)\n",
        "response1_ttfC.resolve()\n",
        "to_markdown(response1_ttfC.text)\n",
        "# \"\"\"Inclusion Criteria: Subjects must have smoked on average of at least ten cigarettes per day during the past year; Yes, the patient has smoked an average of 15 cigarettes per day for the past 20 years.\n",
        "# Patient weighs more than 220 pounds. Yes, the patient weighs 275 pounds.\n",
        "# Exclusion Criteria: Subjects with any history of clinically significant cardiovascular disease; It is not clear from the information provided whether the patient has any history of clinically significant cardiovascular disease.\n",
        "# Uncontrolled hypertension. The patient's blood pressure is 160-165/100-110 mm Hg. It is not clear from the information provided whether the patient's hypertension is controlled.\n",
        "# Based on the information provided, it is not possible to determine whether the patient meets the criteria for this study. Further information is needed to determine the patient's history of cardiovascular disease and whether their hypertension is controlled.\"\"\""
      ]
    },
    {
      "cell_type": "code",
      "execution_count": null,
      "metadata": {
        "id": "Ceec_-4PJL5V"
      },
      "outputs": [],
      "source": [
        "response1_ttfT = model.generate_content([prompt_ToT, text_crit1, img1], stream=True)\n",
        "response1_ttfT.resolve()\n",
        "to_markdown(response1_ttfT.text)\n",
        "# \"\"\"Expert 1: First, the patient must have smoked at least 10 cigarettes per day during the past year. The patient has smoked an average of 15 cigarettes per day for the past 20 years, so this criterion is met.\n",
        "# Expert 2: Second, the patient must weigh more than 220 pounds. The patient weighs 275 pounds, so this criterion is also met.\n",
        "# Expert 3: Third, the patient must not have any history of clinically significant cardiovascular disease. The patient has a history of asthma, but this is not a cardiovascular disease, so this criterion is also met.\n",
        "# Expert 1: Finally, the patient must not have uncontrolled hypertension. The patient's blood pressure is 160/100 mm Hg, which is slightly elevated, but it is not uncontrolled. So, this criterion is also met.\n",
        "# Overall, the patient meets all of the inclusion criteria and none of the exclusion criteria, so they are eligible for the study.\"\"\""
      ]
    },
    {
      "cell_type": "code",
      "source": [
        "response1_tff0 = model.generate_content([prompt_zero_shot, crit1, img1], stream=True)\n",
        "response1_tff0.resolve()\n",
        "to_markdown(response1_tff0.text)"
      ],
      "metadata": {
        "id": "8KSivLnhnWfe"
      },
      "execution_count": null,
      "outputs": []
    },
    {
      "cell_type": "code",
      "source": [
        "response1_tff2 = model.generate_content([prompt_few_shot, crit1, img1], stream=True)\n",
        "response1_tff2.resolve()\n",
        "to_markdown(response1_tff2.text)\n",
        "# \"\"\"Inclusion Criteria:\n",
        "\n",
        "# Subjects must have smoked on average of at least ten cigarettes per day during the past year: Yes\n",
        "# Patient weighs more than 220 pounds: Yes\n",
        "# Exclusion Criteria:\n",
        "\n",
        "# Subjects with any history of clinically significant cardiovascular disease: No\n",
        "# Uncontrolled hypertension: No\n",
        "# The patient meets all the inclusion criteria and none of the exclusion criteria, so he can be included in the study.\"\"\""
      ],
      "metadata": {
        "id": "RTxnrSKjnaw3"
      },
      "execution_count": null,
      "outputs": []
    },
    {
      "cell_type": "code",
      "source": [
        "response1_ttfC = model.generate_content([prompt_CoT, crit1, img1], stream=True)\n",
        "response1_ttfC.resolve()\n",
        "to_markdown(response1_ttfC.text)\n",
        "# \"\"\"This patient meets the inclusion criteria.\n",
        "# The patient has smoked an average of 15 cigarettes per day for the past 20 years and weighs 275 lbs.\n",
        "# This patient does not meet the exclusion criteria. The patient has a history of asthma but it is controlled with medication.\n",
        "# The patient's blood pressure is slightly elevated but it is not uncontrolled hypertension.\"\"\""
      ],
      "metadata": {
        "id": "kXVS9eEkneht"
      },
      "execution_count": null,
      "outputs": []
    },
    {
      "cell_type": "code",
      "source": [
        "response1_ttfT = model.generate_content([prompt_ToT, crit1, img1], stream=True)\n",
        "response1_ttfT.resolve()\n",
        "to_markdown(response1_ttfT.text)\n",
        "# \"\"\"Expert 1: First, I would check if the patient meets the inclusion criteria. The patient has smoked an average of 15 cigarettes per day for the past 20 years, which meets the first criterion. The patient weighs 275 lbs, which meets the second criterion. Therefore, the patient meets the inclusion criteria.\n",
        "# Expert 2: I agree with Expert 1. The patient meets the inclusion criteria.\n",
        "# Expert 3: I agree with Experts 1 and 2. The patient meets the inclusion criteria.\n",
        "# Expert 1: Next, I would check if the patient meets the exclusion criteria. The patient has a history of asthma, which is a clinically significant cardiovascular disease. Therefore, the patient meets the exclusion criteria.\n",
        "# Expert 2: I agree with Expert 1. The patient meets the exclusion criteria.\n",
        "# Expert 3: I agree with Experts 1 and 2. The patient meets the exclusion criteria.\n",
        "# Overall, the patient does not meet the patient selection criteria for this medical study.\"\"\""
      ],
      "metadata": {
        "id": "F7pRqkZDnhe3"
      },
      "execution_count": null,
      "outputs": []
    },
    {
      "cell_type": "code",
      "source": [
        "response1_ttw0 = model.generate_content([prompt_zero_shot, text_crit1, hw_img1], stream=True)\n",
        "response1_ttw0.resolve()\n",
        "to_markdown(response1_ttw0.text)"
      ],
      "metadata": {
        "id": "RArzuhBEW5t0"
      },
      "execution_count": null,
      "outputs": []
    },
    {
      "cell_type": "code",
      "source": [
        "response1_ttw2 = model.generate_content([prompt_few_shot, text_crit1, hw_img1], stream=True)\n",
        "response1_ttw2.resolve()\n",
        "to_markdown(response1_ttw2.text)\n",
        "# \"\"\"Inclusion Criteria: Subjects must have smoked on average of at least ten cigarettes per day during the past year; - Yes Patient weighs more than 220 pounds. - none\n",
        "# Exclusion Criteria: Subjects with any history of clinically significant cardiovascular disease; - none Uncontrolled hypertension. - none\"\"\""
      ],
      "metadata": {
        "id": "jfgQRGCYW6sx"
      },
      "execution_count": null,
      "outputs": []
    },
    {
      "cell_type": "code",
      "source": [
        "response1_ttwC = model.generate_content([prompt_CoT, text_crit1, hw_img1], stream=True)\n",
        "response1_ttwC.resolve()\n",
        "to_markdown(response1_ttwC.text)\n",
        "# \"\"\"Inclusion Criteria: Subjects must have smoked on average of at least ten cigarettes per day during the past year; => Yes, the patient smokes a pack a day Patient weighs more than 220 pounds. => Unknown\n",
        "# Exclusion Criteria: Subjects with any history of clinically significant cardiovascular disease; => Unknown Uncontrolled hypertension. => Unknown\n",
        "# The patient meets 1 out of 2 inclusion criteria and has 2 unknown exclusion criteria. Therefore, we cannot determine if the patient is eligible for this study based on the information provided.\"\"\"\n"
      ],
      "metadata": {
        "id": "ThomCWUzW-LR"
      },
      "execution_count": null,
      "outputs": []
    },
    {
      "cell_type": "code",
      "source": [
        "response1_ttwT = model.generate_content([prompt_ToT, text_crit1, hw_img1], stream=True)\n",
        "response1_ttwT.resolve()\n",
        "to_markdown(response1_ttwT.text)\n",
        "# \"\"\"Expert 1: First, the patient smokes a pack of cigarettes a day, so they meet the inclusion criteria.\n",
        "# Expert 2: The patient weighs 220 pounds, so they meet the inclusion criteria. Expert 3: The patient has a history of tonsillitis, but no history of cardiovascular disease or hypertension, so they meet the inclusion criteria.\n",
        "# All experts agree that the patient meets the inclusion criteria and should be included in the study.\"\"\""
      ],
      "metadata": {
        "id": "7f24pHkrXBMx"
      },
      "execution_count": null,
      "outputs": []
    },
    {
      "cell_type": "code",
      "source": [
        "response1_tfw0 = model.generate_content([prompt_zero_shot, crit1, hw_img1], stream=True)\n",
        "response1_tfw0.resolve()\n",
        "to_markdown(response1_tfw0.text)"
      ],
      "metadata": {
        "id": "48H9gLCFXES_"
      },
      "execution_count": null,
      "outputs": []
    },
    {
      "cell_type": "code",
      "source": [
        "response1_tfw2 = model.generate_content([prompt_few_shot, crit1, hw_img1], stream=True)\n",
        "response1_tfw2.resolve()\n",
        "to_markdown(response1_tfw2.text)\n",
        "# \"\"\"Inclusion Criteria:\n",
        "\n",
        "# Subjects must have smoked on average of at least ten cigarettes per day during the past year: Yes\n",
        "# Patient weighs more than 220 pounds: No\n",
        "# Exclusion Criteria:\n",
        "\n",
        "# Subjects with any history of clinically significant cardiovascular disease: No\n",
        "# Uncontrolled hypertension: Yes\"\"\""
      ],
      "metadata": {
        "id": "svECbYEDXF0e"
      },
      "execution_count": null,
      "outputs": []
    },
    {
      "cell_type": "code",
      "source": [
        "response1_tfwC = model.generate_content([prompt_CoT, crit1, hw_img1], stream=True)\n",
        "response1_tfwC.resolve()\n",
        "to_markdown(response1_tfwC.text)\n",
        "# \"\"\"Inclusion Criteria:\n",
        "\n",
        "# Subjects must have smoked on average of at least ten cigarettes per day during the past year - Yes, the patient smokes 1 pack a day which is 20 cigarettes a day.\n",
        "# Patient weighs more than 220 pounds - No, the patient weighs 150 pounds.\n",
        "# Exclusion Criteria:\n",
        "\n",
        "# Subjects with any history of clinically significant cardiovascular disease - No, the patient denies any history of cardiovascular disease.\n",
        "# Uncontrolled hypertension - No, the patient's blood pressure is 120/80 mmHg.\n",
        "# The patient does not meet all of the inclusion criteria and does not have any of the exclusion criteria, so they are not eligible for the study.\"\"\""
      ],
      "metadata": {
        "id": "70KhoFudXH8Q"
      },
      "execution_count": null,
      "outputs": []
    },
    {
      "cell_type": "code",
      "source": [
        "response1_tfwT = model.generate_content([prompt_ToT, crit1, hw_img1], stream=True)\n",
        "response1_tfwT.resolve()\n",
        "to_markdown(response1_tfwT.text)\n",
        "# \"\"\"Expert 1: First, I would check if the patient smokes on average at least 10 cigarettes per day.\n",
        "# Expert 2: I agree. That's the first thing to check.\n",
        "# Expert 3: Yes, and the patient smokes a pack a day, so that's more than 10 cigarettes per day.\n",
        "# Expert 1: Next, I would check if the patient weighs more than 220 pounds.\n",
        "# Expert 2: Me too.\n",
        "# Expert 3: The patient weighs 250 pounds, so that's more than 220 pounds.\n",
        "# Expert 1: Finally, I would check if the patient has any history of clinically significant cardiovascular disease or uncontrolled hypertension.\n",
        "# Expert 2: I agree.\n",
        "# Expert 3: The patient denies any history of cardiovascular disease or hypertension, so that's good.\n",
        "# Expert 1: So, the patient meets all of the inclusion criteria and none of the exclusion criteria. Therefore, the patient is eligible for the study.\n",
        "# Expert 2: I agree.\n",
        "# Expert 3: Me too.\"\"\""
      ],
      "metadata": {
        "id": "LXUcZLNPXJxD"
      },
      "execution_count": null,
      "outputs": []
    },
    {
      "cell_type": "markdown",
      "source": [
        "## test 2. В цикле обработаем все данные. Заранее настроим параметры конфиденциальности модели.   \n",
        "Для модели Gemini 1.5 стоит ограничение на количество запросов в минуту, поэтому для корректной работы пришлось добавлять time.sleep()."
      ],
      "metadata": {
        "id": "b-uIDQqONqlw"
      }
    },
    {
      "cell_type": "code",
      "source": [
        "# Создаем пустой список для хранения результатов                                             # prompt_zero_shot, crit (текст и фото), img   - фото печат. карта пациента\n",
        "results = []\n",
        "\n",
        "# Пробегаемся по всем критериям\n",
        "for crit in tqdm([text_crit1, text_crit2, text_crit3, crit1, crit2, crit3], desc=\"Processing criteria\"):\n",
        "    for i in range(1, 12):\n",
        "        # Загружаем изображение\n",
        "        img = PIL.Image.open(f'/content/drive/MyDrive/диплом/test/text/test{i}.png')\n",
        "\n",
        "        # Генерируем контент\n",
        "        response_ttfC = model.generate_content([prompt_zero_shot, crit, img], stream=False)\n",
        "        response_ttfC.resolve()\n",
        "\n",
        "        # Добавляем результат, название изображения и критерий в список в виде словаря\n",
        "        results.append({'Response': response_ttfC.text, 'img': f'test{i}.png', 'crit': crit})\n",
        "\n",
        "# Создаем DataFrame из результатов\n",
        "df = pd.DataFrame(results)\n",
        "\n",
        "# Сохраняем результаты в файл Excel\n",
        "df.to_excel('/content/drive/MyDrive/диплом/test/results_prompt_zero_shot_1.5.xlsx', index=False)"
      ],
      "metadata": {
        "id": "K0CiJvZrK0Uj"
      },
      "execution_count": null,
      "outputs": []
    },
    {
      "cell_type": "code",
      "source": [
        "# Создаем пустой список для хранения результатов                                          # prompt_few_shot, crit (текст и фото), img   - фото печат. карта пациента\n",
        "results = []\n",
        "from google.generativeai.types import HarmCategory, HarmBlockThreshold\n",
        "\n",
        "# Пробегаемся по всем критериям\n",
        "for crit in tqdm([text_crit1, text_crit2, text_crit3, crit1, crit2, crit3], desc=\"Processing criteria\"):\n",
        "    for i in range(1, 12):\n",
        "        # Загружаем изображение\n",
        "        img = PIL.Image.open(f'/content/drive/MyDrive/диплом/test/text/test{i}.png')\n",
        "\n",
        "        # Генерируем контент\n",
        "        response = model.generate_content([prompt_few_shot, crit, img], stream=False,\n",
        "                                          safety_settings={\n",
        "                          HarmCategory.HARM_CATEGORY_HATE_SPEECH: HarmBlockThreshold.BLOCK_NONE,\n",
        "                          HarmCategory.HARM_CATEGORY_HARASSMENT: HarmBlockThreshold.BLOCK_NONE,\n",
        "                          HarmCategory.HARM_CATEGORY_DANGEROUS_CONTENT: HarmBlockThreshold.BLOCK_NONE,\n",
        "                          HarmCategory.HARM_CATEGORY_SEXUALLY_EXPLICIT: HarmBlockThreshold.BLOCK_NONE\n",
        "                          })\n",
        "        response.resolve()\n",
        "\n",
        "        # Добавляем результат, название изображения и критерий в список в виде словаря\n",
        "        try: results.append({'Response': response.text, 'img': f'test{i}.png', 'crit': crit})\n",
        "        except ValueError:\n",
        "        # If the response doesn't contain text, check if the prompt was blocked.\n",
        "              print(response.prompt_feedback)\n",
        "        # Also check the finish reason to see if the response was blocked.\n",
        "              print(response.candidates[0].finish_reason)\n",
        "        # If the finish reason was SAFETY, the safety ratings have more details.\n",
        "              print(response.candidates[0].safety_ratings)\n",
        "\n",
        "\n",
        "# Создаем DataFrame из результатов\n",
        "df = pd.DataFrame(results)\n",
        "\n",
        "# Сохраняем результаты в файл Excel\n",
        "df.to_excel('/content/drive/MyDrive/диплом/test/results_prompt_few_shot_1.5.xlsx', index=False)\n"
      ],
      "metadata": {
        "id": "ZjXBNqLrPrxe"
      },
      "execution_count": null,
      "outputs": []
    },
    {
      "cell_type": "markdown",
      "source": [
        "Processing criteria:  33%|███▎      | 2/6 [03:54<07:46, 116.72s/it]\n",
        "FinishReason.SAFETY\n",
        "[category: HARM_CATEGORY_SEXUALLY_EXPLICIT\n",
        "probability: NEGLIGIBLE\n",
        ", category: HARM_CATEGORY_HATE_SPEECH\n",
        "probability: MEDIUM\n",
        ", category: HARM_CATEGORY_HARASSMENT\n",
        "probability: MEDIUM\n",
        ", category: HARM_CATEGORY_DANGEROUS_CONTENT\n",
        "probability: NEGLIGIBLE\n",
        "]\n",
        "\n",
        "FinishReason.SAFETY\n",
        "[category: HARM_CATEGORY_SEXUALLY_EXPLICIT\n",
        "probability: NEGLIGIBLE\n",
        ", category: HARM_CATEGORY_HATE_SPEECH\n",
        "probability: MEDIUM\n",
        ", category: HARM_CATEGORY_HARASSMENT\n",
        "probability: MEDIUM\n",
        ", category: HARM_CATEGORY_DANGEROUS_CONTENT\n",
        "probability: NEGLIGIBLE\n",
        "]\n",
        "\n",
        "FinishReason.SAFETY\n",
        "[category: HARM_CATEGORY_SEXUALLY_EXPLICIT\n",
        "probability: NEGLIGIBLE\n",
        ", category: HARM_CATEGORY_HATE_SPEECH\n",
        "probability: NEGLIGIBLE\n",
        ", category: HARM_CATEGORY_HARASSMENT\n",
        "probability: MEDIUM\n",
        ", category: HARM_CATEGORY_DANGEROUS_CONTENT\n",
        "probability: NEGLIGIBLE\n",
        "]\n",
        "Processing criteria: 100%|██████████| 6/6 [14:05<00:00, 140.96s/it]"
      ],
      "metadata": {
        "id": "6Tuy7jKsxTu7"
      }
    },
    {
      "cell_type": "code",
      "source": [
        "# Создаем пустой список для хранения результатов                                                             # prompt_ToT, crit (текст и фото), img   - фото печат. карта пациента\n",
        "results = []\n",
        "\n",
        "# Пробегаемся по всем критериям\n",
        "for crit in tqdm([text_crit1, text_crit2, text_crit3, crit1, crit2, crit3], desc=\"Processing criteria\"):\n",
        "    for i in range(1, 12):\n",
        "        # Загружаем изображение\n",
        "        img = PIL.Image.open(f'/content/drive/MyDrive/диплом/test/text/test{i}.png')\n",
        "\n",
        "        # Генерируем контент\n",
        "        response = model.generate_content([prompt_ToT, crit, img], stream=False,\n",
        "                                               safety_settings={\n",
        "                          HarmCategory.HARM_CATEGORY_HATE_SPEECH: HarmBlockThreshold.BLOCK_NONE,\n",
        "                          HarmCategory.HARM_CATEGORY_HARASSMENT: HarmBlockThreshold.BLOCK_NONE,\n",
        "                          HarmCategory.HARM_CATEGORY_DANGEROUS_CONTENT: HarmBlockThreshold.BLOCK_NONE,\n",
        "                          HarmCategory.HARM_CATEGORY_SEXUALLY_EXPLICIT: HarmBlockThreshold.BLOCK_NONE\n",
        "                          })\n",
        "        response.resolve()\n",
        "\n",
        "        # Добавляем результат, название изображения и критерий в список в виде словаря\n",
        "        try: results.append({'Response': response.text, 'img': f'test{i}.png', 'crit': crit})\n",
        "\n",
        "        except ValueError:\n",
        "        # If the response doesn't contain text, check if the prompt was blocked.\n",
        "              print(response.prompt_feedback)\n",
        "        # Also check the finish reason to see if the response was blocked.\n",
        "              print(response.candidates[0].finish_reason)\n",
        "        # If the finish reason was SAFETY, the safety ratings have more details.\n",
        "              print(response.candidates[0].safety_ratings)\n",
        "\n",
        "# Создаем DataFrame из результатов\n",
        "df = pd.DataFrame(results)\n",
        "\n",
        "# Сохраняем результаты в файл Excel\n",
        "df.to_excel('/content/drive/MyDrive/диплом/test/results_prompt_ToT_1.5.xlsx', index=False)"
      ],
      "metadata": {
        "id": "rLzVX0ZOfxf2"
      },
      "execution_count": null,
      "outputs": []
    },
    {
      "cell_type": "code",
      "source": [
        "# Создаем пустой список для хранения результатов                                                               # prompt_CoT, crit (текст и фото), img   - фото печат. карта пациента\n",
        "results = []\n",
        "\n",
        "# Пробегаемся по всем критериям\n",
        "for crit in tqdm([text_crit1, text_crit2, text_crit3, crit1, crit2, crit3], desc=\"Processing criteria\"):\n",
        "    for i in range(1, 12):\n",
        "        # Загружаем изображение\n",
        "        img = PIL.Image.open(f'/content/drive/MyDrive/диплом/test/text/test{i}.png')\n",
        "\n",
        "        # Генерируем контент\n",
        "        response = model.generate_content([prompt_CoT, crit, img], stream=True, safety_settings={\n",
        "                          HarmCategory.HARM_CATEGORY_HATE_SPEECH: HarmBlockThreshold.BLOCK_NONE,\n",
        "                          HarmCategory.HARM_CATEGORY_HARASSMENT: HarmBlockThreshold.BLOCK_NONE,\n",
        "                          HarmCategory.HARM_CATEGORY_DANGEROUS_CONTENT: HarmBlockThreshold.BLOCK_NONE,\n",
        "                          HarmCategory.HARM_CATEGORY_SEXUALLY_EXPLICIT: HarmBlockThreshold.BLOCK_NONE\n",
        "                          })\n",
        "        response.resolve()\n",
        "\n",
        "        # Добавляем результат, название изображения и критерий в список в виде словаря\n",
        "\n",
        "        try: results.append({'Response': response.text, 'img': f'test{i}.png', 'crit': crit})\n",
        "        except ValueError:\n",
        "        # If the response doesn't contain text, check if the prompt was blocked.\n",
        "              print(response.prompt_feedback)\n",
        "        # Also check the finish reason to see if the response was blocked.\n",
        "              print(response.candidates[0].finish_reason)\n",
        "        # If the finish reason was SAFETY, the safety ratings have more details.\n",
        "              print(response.candidates[0].safety_ratings)\n",
        "\n",
        "# Создаем DataFrame из результатов\n",
        "df = pd.DataFrame(results)\n",
        "\n",
        "# Сохраняем результаты в файл Excel\n",
        "df.to_excel('/content/drive/MyDrive/диплом/test/results_prompt_CoT_1.5.xlsx', index=False)"
      ],
      "metadata": {
        "id": "Ucuo9szaRgJA"
      },
      "execution_count": null,
      "outputs": []
    },
    {
      "cell_type": "code",
      "source": [
        "\n",
        "# Создаем пустой список для хранения результатов                                                                 # prompt_zero_shot, crit (текст и фото), hw_img   - фото рукописная карта пациента\n",
        "results = []\n",
        "\n",
        "# Пробегаемся по всем критериям\n",
        "for crit in tqdm([text_crit1, text_crit2, text_crit3, crit1, crit2, crit3], desc=\"Processing criteria\"):\n",
        "    for i in range(1, 12):\n",
        "        # Загружаем изображение\n",
        "        img = PIL.Image.open(f'/content/drive/MyDrive/диплом/test/photo/photo{i}.jpg')\n",
        "\n",
        "        # Генерируем контент\n",
        "        response_ttfC = model.generate_content([prompt_zero_shot, crit, img], stream=True)\n",
        "        response_ttfC.resolve()\n",
        "\n",
        "        # Добавляем результат, название изображения и критерий в список в виде словаря\n",
        "        results.append({'Response': response_ttfC.text, 'img': f'test{i}.png', 'crit': crit})\n",
        "\n",
        "# Создаем DataFrame из результатов\n",
        "df = pd.DataFrame(results)\n",
        "\n",
        "# Сохраняем результаты в файл Excel\n",
        "df.to_excel('/content/drive/MyDrive/диплом/test/hw_prompt_zero_shot_1.5.xlsx', index=False)"
      ],
      "metadata": {
        "id": "77M6A0OgLkck"
      },
      "execution_count": null,
      "outputs": []
    },
    {
      "cell_type": "code",
      "source": [
        "# Создаем пустой список для хранения результатов\n",
        "results = []\n",
        "from tqdm import tqdm\n",
        "# Пробегаемся по всем критериям\n",
        "#for crit in [text_crit1, text_crit2, text_crit3, crit1, crit2, crit3]:\n",
        "for crit in tqdm([text_crit1, text_crit2, text_crit3, crit1, crit2, crit3], desc=\"Processing criteria\"):\n",
        "    for i in range(1, 12):\n",
        "        # Загружаем изображение\n",
        "        img = PIL.Image.open(f'/content/drive/MyDrive/диплом/test/photo/photo{i}.jpg')\n",
        "\n",
        "        # Генерируем контент\n",
        "        response = model.generate_content([prompt_few_shot, crit, img], stream=True, safety_settings={\n",
        "                          HarmCategory.HARM_CATEGORY_HATE_SPEECH: HarmBlockThreshold.BLOCK_NONE,\n",
        "                          HarmCategory.HARM_CATEGORY_HARASSMENT: HarmBlockThreshold.BLOCK_NONE,\n",
        "                          HarmCategory.HARM_CATEGORY_DANGEROUS_CONTENT: HarmBlockThreshold.BLOCK_NONE,\n",
        "                          HarmCategory.HARM_CATEGORY_SEXUALLY_EXPLICIT: HarmBlockThreshold.BLOCK_NONE})\n",
        "        response.resolve()\n",
        "\n",
        "        # Добавляем результат, название изображения и критерий в список в виде словаря\n",
        "        try: results.append({'Response': response.text, 'img': f'test{i}.png', 'crit': crit})\n",
        "        except ValueError:\n",
        "        # If the response doesn't contain text, check if the prompt was blocked.\n",
        "              print(response.prompt_feedback)\n",
        "        # Also check the finish reason to see if the response was blocked.\n",
        "              print(response.candidates[0].finish_reason)\n",
        "        # If the finish reason was SAFETY, the safety ratings have more details.\n",
        "              print(response.candidates[0].safety_ratings)\n",
        "\n",
        "# Создаем DataFrame из результатов\n",
        "df = pd.DataFrame(results)\n",
        "\n",
        "# Сохраняем результаты в файл Excel\n",
        "df.to_excel('/content/drive/MyDrive/диплом/test/hw_prompt_few_shot_1.5.xlsx', index=False)\n"
      ],
      "metadata": {
        "id": "_MtnxV_AgF4N"
      },
      "execution_count": null,
      "outputs": []
    },
    {
      "cell_type": "code",
      "source": [
        "# Создаем пустой список для хранения результатов\n",
        "results = []\n",
        "\n",
        "# Пробегаемся по всем критериям\n",
        "#for crit in [text_crit1, text_crit2, text_crit3, crit1, crit2, crit3]:\n",
        "for crit in tqdm([text_crit1, text_crit2, text_crit3, crit1, crit2, crit3], desc=\"Processing criteria\"):\n",
        "    for i in range(1, 12):\n",
        "        # Загружаем изображение\n",
        "        img = PIL.Image.open(f'/content/drive/MyDrive/диплом/test/photo/photo{i}.jpg')\n",
        "\n",
        "        # Генерируем контент\n",
        "        response = model.generate_content([prompt_ToT, crit, img], stream=True, safety_settings={\n",
        "                          HarmCategory.HARM_CATEGORY_HATE_SPEECH: HarmBlockThreshold.BLOCK_NONE,\n",
        "                          HarmCategory.HARM_CATEGORY_HARASSMENT: HarmBlockThreshold.BLOCK_NONE,\n",
        "                          HarmCategory.HARM_CATEGORY_DANGEROUS_CONTENT: HarmBlockThreshold.BLOCK_NONE,\n",
        "                          HarmCategory.HARM_CATEGORY_SEXUALLY_EXPLICIT: HarmBlockThreshold.BLOCK_NONE})\n",
        "        response.resolve()\n",
        "\n",
        "        # Добавляем результат, название изображения и критерий в список в виде словаря\n",
        "        try: results.append({'Response': response.text, 'img': f'test{i}.png', 'crit': crit})\n",
        "        except ValueError:\n",
        "        # If the response doesn't contain text, check if the prompt was blocked.\n",
        "              print(response.prompt_feedback)\n",
        "        # Also check the finish reason to see if the response was blocked.\n",
        "              print(response.candidates[0].finish_reason)\n",
        "        # If the finish reason was SAFETY, the safety ratings have more details.\n",
        "              print(response.candidates[0].safety_ratings)\n",
        "\n",
        "# Создаем DataFrame из результатов\n",
        "df = pd.DataFrame(results)\n",
        "\n",
        "# Сохраняем результаты в файл Excel\n",
        "df.to_excel('/content/drive/MyDrive/диплом/test/hw_prompt_ToT_1.5.xlsx', index=False)"
      ],
      "metadata": {
        "id": "i6KFUrv6g2me"
      },
      "execution_count": null,
      "outputs": []
    },
    {
      "cell_type": "code",
      "source": [
        "# Создаем пустой список для хранения результатов\n",
        "results = []\n",
        "\n",
        "# Пробегаемся по всем критериям\n",
        "#for crit in [text_crit1, text_crit2, text_crit3, crit1, crit2, crit3]:\n",
        "for crit in tqdm([text_crit1, text_crit2, text_crit3, crit1, crit2, crit3], desc=\"Processing criteria\"):\n",
        "    for i in range(1, 12):\n",
        "        # Загружаем изображение\n",
        "        img = PIL.Image.open(f'/content/drive/MyDrive/диплом/test/photo/photo{i}.jpg')\n",
        "\n",
        "        # Генерируем контент\n",
        "        response = model.generate_content([prompt_CoT, crit, img], stream=False, safety_settings={\n",
        "                          HarmCategory.HARM_CATEGORY_HATE_SPEECH: HarmBlockThreshold.BLOCK_NONE,\n",
        "                          HarmCategory.HARM_CATEGORY_HARASSMENT: HarmBlockThreshold.BLOCK_NONE,\n",
        "                          HarmCategory.HARM_CATEGORY_DANGEROUS_CONTENT: HarmBlockThreshold.BLOCK_NONE,\n",
        "                          HarmCategory.HARM_CATEGORY_SEXUALLY_EXPLICIT: HarmBlockThreshold.BLOCK_NONE})\n",
        "        response.resolve()\n",
        "\n",
        "        # Добавляем результат, название изображения и критерий в список в виде словаря\n",
        "        try: results.append({'Response': response.text, 'img': f'test{i}.png', 'crit': crit})\n",
        "        except ValueError:\n",
        "        # If the response doesn't contain text, check if the prompt was blocked.\n",
        "              print(response.prompt_feedback)\n",
        "        # Also check the finish reason to see if the response was blocked.\n",
        "              print(response.candidates[0].finish_reason)\n",
        "        # If the finish reason was SAFETY, the safety ratings have more details.\n",
        "              print(response.candidates[0].safety_ratings)\n",
        "\n",
        "# Создаем DataFrame из результатов\n",
        "df = pd.DataFrame(results)\n",
        "\n",
        "# Сохраняем результаты в файл Excel\n",
        "df.to_excel('/content/drive/MyDrive/диплом/test/hw_prompt_CoT_1.5.xlsx', index=False)"
      ],
      "metadata": {
        "id": "is5uK0FVg7gB"
      },
      "execution_count": null,
      "outputs": []
    },
    {
      "cell_type": "code",
      "source": [
        "import time\n",
        "\n",
        "# Создаем пустой список для хранения результатов\n",
        "results = []\n",
        "\n",
        "# Пробегаемся по всем критериям\n",
        "for crit in tqdm([text_crit1, text_crit2, text_crit3, crit1, crit2, crit3], desc=\"Processing criteria\"):\n",
        "    for i in range(1, 12):\n",
        "        # Загружаем изображение\n",
        "        img = PIL.Image.open(f'/content/drive/MyDrive/диплом/test/photo/photo{i}.jpg')\n",
        "\n",
        "        # Генерируем контент\n",
        "        response = model.generate_content([prompt_ToT, crit, img], stream=True, safety_settings={\n",
        "                          HarmCategory.HARM_CATEGORY_HATE_SPEECH: HarmBlockThreshold.BLOCK_NONE,\n",
        "                          HarmCategory.HARM_CATEGORY_HARASSMENT: HarmBlockThreshold.BLOCK_NONE,\n",
        "                          HarmCategory.HARM_CATEGORY_DANGEROUS_CONTENT: HarmBlockThreshold.BLOCK_NONE,\n",
        "                          HarmCategory.HARM_CATEGORY_SEXUALLY_EXPLICIT: HarmBlockThreshold.BLOCK_NONE})\n",
        "        response.resolve()\n",
        "\n",
        "        # Добавляем результат, название изображения и критерий в список в виде словаря\n",
        "        try: results.append({'Response': response.text, 'img': f'test{i}.png', 'crit': crit})\n",
        "        except ValueError:\n",
        "        # If the response doesn't contain text, check if the prompt was blocked.\n",
        "              print(response.prompt_feedback)\n",
        "        # Also check the finish reason to see if the response was blocked.\n",
        "              print(response.candidates[0].finish_reason)\n",
        "        # If the finish reason was SAFETY, the safety ratings have more details.\n",
        "              print(response.candidates[0].safety_ratings)\n",
        "\n",
        "        # Ждем 10 секунд перед следующим запросом\n",
        "        time.sleep(10)\n",
        "\n",
        "# Создаем DataFrame из результатов\n",
        "df = pd.DataFrame(results)\n",
        "\n",
        "# Сохраняем результаты в файл Excel\n",
        "df.to_excel('/content/drive/MyDrive/диплом/test/hw_prompt_ToT_1.5.xlsx', index=False)"
      ],
      "metadata": {
        "id": "nE7N5cqQkYN4"
      },
      "execution_count": null,
      "outputs": []
    },
    {
      "cell_type": "code",
      "source": [
        "# Создаем пустой список для хранения результатов                                                             # prompt_ToT, crit (текст и фото), img   - фото печат. карта пациента\n",
        "results = []\n",
        "\n",
        "# Пробегаемся по всем критериям\n",
        "for crit in tqdm([text_crit1, text_crit2, text_crit3, crit1, crit2, crit3], desc=\"Processing criteria\"):\n",
        "    for i in range(1, 12):\n",
        "        # Загружаем изображение\n",
        "        img = PIL.Image.open(f'/content/drive/MyDrive/диплом/test/text/test{i}.png')\n",
        "\n",
        "        # Генерируем контент\n",
        "        response = model.generate_content([prompt_ToT, crit, img], stream=False,\n",
        "                                               safety_settings={\n",
        "                          HarmCategory.HARM_CATEGORY_HATE_SPEECH: HarmBlockThreshold.BLOCK_NONE,\n",
        "                          HarmCategory.HARM_CATEGORY_HARASSMENT: HarmBlockThreshold.BLOCK_NONE,\n",
        "                          HarmCategory.HARM_CATEGORY_DANGEROUS_CONTENT: HarmBlockThreshold.BLOCK_NONE,\n",
        "                          HarmCategory.HARM_CATEGORY_SEXUALLY_EXPLICIT: HarmBlockThreshold.BLOCK_NONE\n",
        "                          })\n",
        "        response.resolve()\n",
        "\n",
        "        # Добавляем результат, название изображения и критерий в список в виде словаря\n",
        "        try: results.append({'Response': response.text, 'img': f'test{i}.png', 'crit': crit})\n",
        "\n",
        "        except ValueError:\n",
        "        # If the response doesn't contain text, check if the prompt was blocked.\n",
        "              print(response.prompt_feedback)\n",
        "        # Also check the finish reason to see if the response was blocked.\n",
        "              print(response.candidates[0].finish_reason)\n",
        "        # If the finish reason was SAFETY, the safety ratings have more details.\n",
        "              print(response.candidates[0].safety_ratings)\n",
        "\n",
        "        # Ждем __ секунд перед следующим запросом\n",
        "        time.sleep(15)\n",
        "\n",
        "# Создаем DataFrame из результатов\n",
        "df = pd.DataFrame(results)\n",
        "\n",
        "# Сохраняем результаты в файл Excel\n",
        "df.to_excel('/content/drive/MyDrive/диплом/test/results_prompt_ToT_1.5.xlsx', index=False)"
      ],
      "metadata": {
        "id": "NQXrc44dlTjN",
        "colab": {
          "base_uri": "https://localhost:8080/",
          "height": 34
        },
        "outputId": "1be43e31-c52c-4bba-fca5-e4c94157127a"
      },
      "execution_count": null,
      "outputs": [
        {
          "output_type": "stream",
          "name": "stderr",
          "text": [
            "Processing criteria: 100%|██████████| 6/6 [27:55<00:00, 279.26s/it]\n"
          ]
        }
      ]
    },
    {
      "cell_type": "code",
      "source": [
        "#Создаем пустой список для хранения результатов\n",
        "results = []\n",
        "\n",
        "# Пробегаемся по всем критериям\n",
        "#for crit in [text_crit1, text_crit2, text_crit3, crit1, crit2, crit3]:\n",
        "for crit in tqdm([text_crit1, text_crit2, text_crit3, crit1, crit2, crit3], desc=\"Processing criteria\"):\n",
        "    for i in range(1, 12):\n",
        "        # Загружаем изображение\n",
        "        img = PIL.Image.open(f'/content/drive/MyDrive/диплом/test/photo/photo{i}.jpg')\n",
        "\n",
        "        # Генерируем контент\n",
        "        response = model.generate_content([prompt_CoT, crit, img], stream=False, safety_settings={\n",
        "                          HarmCategory.HARM_CATEGORY_HATE_SPEECH: HarmBlockThreshold.BLOCK_NONE,\n",
        "                          HarmCategory.HARM_CATEGORY_HARASSMENT: HarmBlockThreshold.BLOCK_NONE,\n",
        "                          HarmCategory.HARM_CATEGORY_DANGEROUS_CONTENT: HarmBlockThreshold.BLOCK_NONE,\n",
        "                          HarmCategory.HARM_CATEGORY_SEXUALLY_EXPLICIT: HarmBlockThreshold.BLOCK_NONE})\n",
        "        response.resolve()\n",
        "\n",
        "        # Добавляем результат, название изображения и критерий в список в виде словаря\n",
        "        try: results.append({'Response': response.text, 'img': f'test{i}.png', 'crit': crit})\n",
        "        except ValueError:\n",
        "        # If the response doesn't contain text, check if the prompt was blocked.\n",
        "              print(response.prompt_feedback)\n",
        "        # Also check the finish reason to see if the response was blocked.\n",
        "              print(response.candidates[0].finish_reason)\n",
        "        # If the finish reason was SAFETY, the safety ratings have more details.\n",
        "              print(response.candidates[0].safety_ratings)\n",
        "\n",
        "        time.sleep(15)\n",
        "\n",
        "# Создаем DataFrame из результатов\n",
        "df = pd.DataFrame(results)\n",
        "\n",
        "# Сохраняем результаты в файл Excel\n",
        "df.to_excel('/content/drive/MyDrive/диплом/test/hw_prompt_CoT_1.5.xlsx', index=False)"
      ],
      "metadata": {
        "id": "y7HPwBVo2YMG",
        "colab": {
          "base_uri": "https://localhost:8080/",
          "height": 34
        },
        "outputId": "857e60f4-bfe5-40a6-bf19-9e273db97356"
      },
      "execution_count": null,
      "outputs": [
        {
          "output_type": "stream",
          "name": "stderr",
          "text": [
            "Processing criteria: 100%|██████████| 6/6 [32:47<00:00, 327.96s/it]\n"
          ]
        }
      ]
    },
    {
      "cell_type": "code",
      "source": [
        "# Создаем пустой список для хранения результатов                                                               # prompt_CoT, crit (текст и фото), img   - фото печат. карта пациента\n",
        "results = []\n",
        "\n",
        "# Пробегаемся по всем критериям\n",
        "for crit in tqdm([text_crit1, text_crit2, text_crit3, crit1, crit2, crit3], desc=\"Processing criteria\"):\n",
        "    for i in range(1, 12):\n",
        "        # Загружаем изображение\n",
        "        img = PIL.Image.open(f'/content/drive/MyDrive/диплом/test/text/test{i}.png')\n",
        "\n",
        "        # Генерируем контент\n",
        "        response = model.generate_content([prompt_CoT, crit, img], stream=False, safety_settings={\n",
        "                          HarmCategory.HARM_CATEGORY_HATE_SPEECH: HarmBlockThreshold.BLOCK_NONE,\n",
        "                          HarmCategory.HARM_CATEGORY_HARASSMENT: HarmBlockThreshold.BLOCK_NONE,\n",
        "                          HarmCategory.HARM_CATEGORY_DANGEROUS_CONTENT: HarmBlockThreshold.BLOCK_NONE,\n",
        "                          HarmCategory.HARM_CATEGORY_SEXUALLY_EXPLICIT: HarmBlockThreshold.BLOCK_NONE\n",
        "                          })\n",
        "        response.resolve()\n",
        "\n",
        "        # Добавляем результат, название изображения и критерий в список в виде словаря\n",
        "\n",
        "        try: results.append({'Response': response.text, 'img': f'test{i}.png', 'crit': crit})\n",
        "        except ValueError:\n",
        "        # If the response doesn't contain text, check if the prompt was blocked.\n",
        "              print(response.prompt_feedback)\n",
        "        # Also check the finish reason to see if the response was blocked.\n",
        "              print(response.candidates[0].finish_reason)\n",
        "        # If the finish reason was SAFETY, the safety ratings have more details.\n",
        "              print(response.candidates[0].safety_ratings)\n",
        "\n",
        "        time.sleep(15)\n",
        "\n",
        "# Создаем DataFrame из результатов\n",
        "df = pd.DataFrame(results)\n",
        "\n",
        "# Сохраняем результаты в файл Excel\n",
        "df.to_excel('/content/drive/MyDrive/диплом/test/results_prompt_CoT_1.5.xlsx', index=False)"
      ],
      "metadata": {
        "id": "TfDD3xdt2pLa",
        "colab": {
          "base_uri": "https://localhost:8080/",
          "height": 34
        },
        "outputId": "fa051cf8-63dd-4eac-ccd1-033db73e211f"
      },
      "execution_count": null,
      "outputs": [
        {
          "output_type": "stream",
          "name": "stderr",
          "text": [
            "Processing criteria: 100%|██████████| 6/6 [26:03<00:00, 260.58s/it]\n"
          ]
        }
      ]
    },
    {
      "cell_type": "code",
      "source": [
        "# Создаем пустой список для хранения результатов                                          # prompt_few_shot, crit (текст и фото), img   - фото печат. карта пациента\n",
        "results = []\n",
        "from google.generativeai.types import HarmCategory, HarmBlockThreshold\n",
        "\n",
        "# Пробегаемся по всем критериям\n",
        "for crit in tqdm([text_crit1, text_crit2, text_crit3, crit1, crit2, crit3], desc=\"Processing criteria\"):\n",
        "    for i in range(1, 12):\n",
        "        # Загружаем изображение\n",
        "        img = PIL.Image.open(f'/content/drive/MyDrive/диплом/test/text/test{i}.png')\n",
        "\n",
        "        # Генерируем контент\n",
        "        response = model.generate_content([prompt_few_shot, crit, img], stream=False,\n",
        "                                          safety_settings={\n",
        "                          HarmCategory.HARM_CATEGORY_HATE_SPEECH: HarmBlockThreshold.BLOCK_NONE,\n",
        "                          HarmCategory.HARM_CATEGORY_HARASSMENT: HarmBlockThreshold.BLOCK_NONE,\n",
        "                          HarmCategory.HARM_CATEGORY_DANGEROUS_CONTENT: HarmBlockThreshold.BLOCK_NONE,\n",
        "                          HarmCategory.HARM_CATEGORY_SEXUALLY_EXPLICIT: HarmBlockThreshold.BLOCK_NONE\n",
        "                          })\n",
        "        response.resolve()\n",
        "\n",
        "        # Добавляем результат, название изображения и критерий в список в виде словаря\n",
        "        try: results.append({'Response': response.text, 'img': f'test{i}.png', 'crit': crit})\n",
        "        except ValueError:\n",
        "        # If the response doesn't contain text, check if the prompt was blocked.\n",
        "              print(response.prompt_feedback)\n",
        "        # Also check the finish reason to see if the response was blocked.\n",
        "              print(response.candidates[0].finish_reason)\n",
        "        # If the finish reason was SAFETY, the safety ratings have more details.\n",
        "              print(response.candidates[0].safety_ratings)\n",
        "\n",
        "        time.sleep(20)\n",
        "\n",
        "\n",
        "# Создаем DataFrame из результатов\n",
        "df = pd.DataFrame(results)\n",
        "\n",
        "# Сохраняем результаты в файл Excel\n",
        "df.to_excel('/content/drive/MyDrive/диплом/test/results_prompt_few_shot_1.5.xlsx', index=False)"
      ],
      "metadata": {
        "colab": {
          "base_uri": "https://localhost:8080/",
          "height": 34
        },
        "id": "bw4ntotW8NiL",
        "outputId": "82e13c18-d2ce-4919-b8a6-f778dcc31534"
      },
      "execution_count": null,
      "outputs": [
        {
          "output_type": "stream",
          "name": "stderr",
          "text": [
            "Processing criteria: 100%|██████████| 6/6 [29:35<00:00, 295.96s/it]\n"
          ]
        }
      ]
    },
    {
      "cell_type": "code",
      "source": [
        "# Создаем пустой список для хранения результатов\n",
        "results = []\n",
        "from tqdm import tqdm\n",
        "# Пробегаемся по всем критериям\n",
        "#for crit in [text_crit1, text_crit2, text_crit3, crit1, crit2, crit3]:\n",
        "for crit in tqdm([text_crit1, text_crit2, text_crit3, crit1, crit2, crit3], desc=\"Processing criteria\"):\n",
        "    for i in range(1, 12):\n",
        "        # Загружаем изображение\n",
        "        img = PIL.Image.open(f'/content/drive/MyDrive/диплом/test/photo/photo{i}.jpg')\n",
        "\n",
        "        # Генерируем контент\n",
        "        response = model.generate_content([prompt_few_shot, crit, img], stream=False, safety_settings={\n",
        "                          HarmCategory.HARM_CATEGORY_HATE_SPEECH: HarmBlockThreshold.BLOCK_NONE,\n",
        "                          HarmCategory.HARM_CATEGORY_HARASSMENT: HarmBlockThreshold.BLOCK_NONE,\n",
        "                          HarmCategory.HARM_CATEGORY_DANGEROUS_CONTENT: HarmBlockThreshold.BLOCK_NONE,\n",
        "                          HarmCategory.HARM_CATEGORY_SEXUALLY_EXPLICIT: HarmBlockThreshold.BLOCK_NONE})\n",
        "        response.resolve()\n",
        "\n",
        "        # Добавляем результат, название изображения и критерий в список в виде словаря\n",
        "        try: results.append({'Response': response.text, 'img': f'test{i}.png', 'crit': crit})\n",
        "        except ValueError:\n",
        "        # If the response doesn't contain text, check if the prompt was blocked.\n",
        "              print(response.prompt_feedback)\n",
        "        # Also check the finish reason to see if the response was blocked.\n",
        "              print(response.candidates[0].finish_reason)\n",
        "        # If the finish reason was SAFETY, the safety ratings have more details.\n",
        "              print(response.candidates[0].safety_ratings)\n",
        "\n",
        "        time.sleep(20)\n",
        "\n",
        "# Создаем DataFrame из результатов\n",
        "df = pd.DataFrame(results)\n",
        "\n",
        "# Сохраняем результаты в файл Excel\n",
        "df.to_excel('/content/drive/MyDrive/диплом/test/hw_prompt_few_shot_1.5.xlsx', index=False)"
      ],
      "metadata": {
        "colab": {
          "base_uri": "https://localhost:8080/",
          "height": 34
        },
        "id": "TVCdwxmq8t71",
        "outputId": "f6352c94-5141-4383-89d3-e34a5cf63f3a"
      },
      "execution_count": null,
      "outputs": [
        {
          "output_type": "stream",
          "name": "stderr",
          "text": [
            "Processing criteria: 100%|██████████| 6/6 [35:57<00:00, 359.63s/it]\n"
          ]
        }
      ]
    },
    {
      "cell_type": "code",
      "source": [
        "# Создаем пустой список для хранения результатов                                             # prompt_zero_shot, crit (текст и фото), img   - фото печат. карта пациента\n",
        "results = []\n",
        "\n",
        "# Пробегаемся по всем критериям\n",
        "for crit in tqdm([text_crit1, text_crit2, text_crit3, crit1, crit2, crit3], desc=\"Processing criteria\"):\n",
        "    for i in range(1, 12):\n",
        "        # Загружаем изображение\n",
        "        img = PIL.Image.open(f'/content/drive/MyDrive/диплом/test/text/test{i}.png')\n",
        "\n",
        "        # Генерируем контент\n",
        "        response = model.generate_content([prompt_zero_shot, crit, img], stream=False, safety_settings={\n",
        "                          HarmCategory.HARM_CATEGORY_HATE_SPEECH: HarmBlockThreshold.BLOCK_NONE,\n",
        "                          HarmCategory.HARM_CATEGORY_HARASSMENT: HarmBlockThreshold.BLOCK_NONE,\n",
        "                          HarmCategory.HARM_CATEGORY_DANGEROUS_CONTENT: HarmBlockThreshold.BLOCK_NONE,\n",
        "                          HarmCategory.HARM_CATEGORY_SEXUALLY_EXPLICIT: HarmBlockThreshold.BLOCK_NONE})\n",
        "        response.resolve()\n",
        "\n",
        "        # Добавляем результат, название изображения и критерий в список в виде словаря\n",
        "\n",
        "        try: results.append({'Response': response.text, 'img': f'test{i}.png', 'crit': crit})\n",
        "        except ValueError:\n",
        "        # If the response doesn't contain text, check if the prompt was blocked.\n",
        "              print(response.prompt_feedback)\n",
        "        # Also check the finish reason to see if the response was blocked.\n",
        "              print(response.candidates[0].finish_reason)\n",
        "        # If the finish reason was SAFETY, the safety ratings have more details.\n",
        "              print(response.candidates[0].safety_ratings)\n",
        "\n",
        "        time.sleep(20)\n",
        "\n",
        "# Создаем DataFrame из результатов\n",
        "df = pd.DataFrame(results)\n",
        "\n",
        "# Сохраняем результаты в файл Excel\n",
        "df.to_excel('/content/drive/MyDrive/диплом/test/results_prompt_zero_shot_1.5.xlsx', index=False)"
      ],
      "metadata": {
        "colab": {
          "base_uri": "https://localhost:8080/",
          "height": 34
        },
        "id": "oaYTSKmocf30",
        "outputId": "4c8e578b-6f4b-4934-d6e4-60bf10ddac5b"
      },
      "execution_count": null,
      "outputs": [
        {
          "output_type": "stream",
          "name": "stderr",
          "text": [
            "Processing criteria: 100%|██████████| 6/6 [26:35<00:00, 265.95s/it]\n"
          ]
        }
      ]
    },
    {
      "cell_type": "code",
      "source": [
        "# Создаем пустой список для хранения результатов                                                                 # prompt_zero_shot, crit (текст и фото), hw_img   - фото рукописная карта пациента\n",
        "results = []\n",
        "\n",
        "# Пробегаемся по всем критериям\n",
        "for crit in tqdm([text_crit1, text_crit2, text_crit3, crit1, crit2, crit3], desc=\"Processing criteria\"):\n",
        "    for i in range(1, 12):\n",
        "        # Загружаем изображение\n",
        "        img = PIL.Image.open(f'/content/drive/MyDrive/диплом/test/photo/photo{i}.jpg')\n",
        "\n",
        "        # Генерируем контент\n",
        "        response = model.generate_content([prompt_zero_shot, crit, img], stream=False, safety_settings={\n",
        "                          HarmCategory.HARM_CATEGORY_HATE_SPEECH: HarmBlockThreshold.BLOCK_NONE,\n",
        "                          HarmCategory.HARM_CATEGORY_HARASSMENT: HarmBlockThreshold.BLOCK_NONE,\n",
        "                          HarmCategory.HARM_CATEGORY_DANGEROUS_CONTENT: HarmBlockThreshold.BLOCK_NONE,\n",
        "                          HarmCategory.HARM_CATEGORY_SEXUALLY_EXPLICIT: HarmBlockThreshold.BLOCK_NONE})\n",
        "        response.resolve()\n",
        "\n",
        "        # Добавляем результат, название изображения и критерий в список в виде словаря\n",
        "\n",
        "        try: results.append({'Response': response.text, 'img': f'test{i}.png', 'crit': crit})\n",
        "        except ValueError:\n",
        "        # If the response doesn't contain text, check if the prompt was blocked.\n",
        "              print(response.prompt_feedback)\n",
        "        # Also check the finish reason to see if the response was blocked.\n",
        "              print(response.candidates[0].finish_reason)\n",
        "        # If the finish reason was SAFETY, the safety ratings have more details.\n",
        "              print(response.candidates[0].safety_ratings)\n",
        "\n",
        "        time.sleep(15)\n",
        "\n",
        "# Создаем DataFrame из результатов\n",
        "df = pd.DataFrame(results)\n",
        "\n",
        "# Сохраняем результаты в файл Excel\n",
        "df.to_excel('/content/drive/MyDrive/диплом/test/hw_prompt_zero_shot_1.5.xlsx', index=False)"
      ],
      "metadata": {
        "colab": {
          "base_uri": "https://localhost:8080/",
          "height": 34
        },
        "id": "q7YajbfCvYl5",
        "outputId": "5fe8eefb-f9e6-46b6-927f-b7a4382c496e"
      },
      "execution_count": null,
      "outputs": [
        {
          "output_type": "stream",
          "name": "stderr",
          "text": [
            "Processing criteria: 100%|██████████| 6/6 [34:33<00:00, 345.51s/it]\n"
          ]
        }
      ]
    },
    {
      "cell_type": "markdown",
      "source": [
        "### test with Lang Chain"
      ],
      "metadata": {
        "id": "BCgmTldWfiEt"
      }
    },
    {
      "cell_type": "code",
      "source": [
        "llm = ChatGoogleGenerativeAI(model=\"gemini-pro-vision\", generation_config={\"temperature\": 0.0})\n",
        "\n",
        "message = HumanMessage(\n",
        "    content=[\n",
        "        {\n",
        "            \"type\": \"text\",\n",
        "            \"text\": '''This is the patient selection criterion for a medical study.\n",
        "Next, I will show you patient cards and ask if this patient fits the criteria for this study,\n",
        "and you should answer 'yes' or 'no'\n",
        "Answer step by step.\n",
        "Clinical Trial Criteria:{\n",
        "Inclusion Criteria:\n",
        "Subjects must have smoked on average of at least ten cigarettes per day during the past year;\n",
        "Patient weighs more than 220 pounds.\n",
        "Exclusion Criteria: Subjects with any history of clinically significant cardiovascular disease;\n",
        "Uncontrolled hypertension\n",
        "}''',\n",
        "        },\n",
        "        {\"type\": \"image_url\", \"image_url\": img1},\n",
        "    ]\n",
        ")\n",
        "llm.invoke([message])"
      ],
      "metadata": {
        "id": "4kWJeM6oHxnV"
      },
      "execution_count": null,
      "outputs": []
    },
    {
      "cell_type": "code",
      "source": [
        "llm = ChatGoogleGenerativeAI(model=\"gemini-pro\", generation_config={\"temperature\": 0.0})  # langchain с историей диалога (не работает с Img)\n",
        "memory = ConversationBufferMemory()\n",
        "conv_buf_mem = ConversationChain(\n",
        "    llm=llm,\n",
        "    memory = memory,\n",
        "    verbose=True #отображать логи в консоли или нет\n",
        ")\n",
        "\n",
        "# \"ответ\": \"\n",
        "\n",
        "# Выкуривает ли пациент в среднем не менее десяти сигарет в день в течение последнего года?Да, пациент выкуривал в среднем 15 сигарет в день в течение последних 20 лет.\n",
        "# Весит ли пациент более 220 фунтов?Да, пациент весит 275 фунтов.\n",
        "# Есть ли у пациента в анамнезе клинически значимые сердечно-сосудистые заболевания?\\N В предоставленной информации не уточняется, были ли у пациента в анамнезе клинически значимые сердечно-сосудистые заболевания.\n",
        "# Есть ли у пациента неконтролируемая артериальная гипертензия?\\В предоставленной информации не уточняется, есть ли у пациента неконтролируемая артериальная гипертензия.\n",
        "#  Однако АД пациента составляет систолическое 140-150 мм рт.ст., диастолическое 90-100 мм рт.ст., что считается артериальной гипертензией 1 стадии.\n",
        "#  Основываясь на предоставленной информации, пациент соответствует критериям включения в исследование (выкуривает в среднем не менее десяти сигарет в день в течение последнего года и весит более 220 фунтов).\n",
        "#  Однако неясно, соответствует ли пациент критериям исключения (имеет ли в анамнезе клинически значимые сердечно-сосудистые заболевания или неконтролируемую артериальную гипертензию)\"."
      ],
      "metadata": {
        "id": "iNq7XrUvLRsb"
      },
      "execution_count": null,
      "outputs": []
    },
    {
      "cell_type": "code",
      "source": [
        "llm = ChatGoogleGenerativeAI(model=\"gemini-pro-vision\", generation_config={\"temperature\": 0.0}) # используя langchain (img)\n",
        "message2 = HumanMessage(\n",
        "    content=[\n",
        "        {\n",
        "            \"type\": \"text\",\n",
        "            \"text\": '''This is the patient selection criterion for a medical study.\n",
        "Next, I will show you patient cards and ask if this patient fits the criteria for this study,\n",
        "and you should answer 'yes' or 'no'\n",
        "Answer step by step.\n",
        "Clinical Trial Criteria:{\n",
        "Inclusion Criteria:\n",
        "Subjects must have smoked on average of at least ten cigarettes per day during the past year;\n",
        "Patient weighs more than 220 pounds.\n",
        "Exclusion Criteria: Subjects with any history of clinically significant cardiovascular disease;\n",
        "Uncontrolled hypertension\n",
        "}''',\n",
        "        },\n",
        "        {\"type\": \"image_url\", \"image_url\": img2},\n",
        "    ]\n",
        ")\n",
        "llm.invoke([message2])"
      ],
      "metadata": {
        "id": "PM_eCVNdKY2O"
      },
      "execution_count": null,
      "outputs": []
    }
  ],
  "metadata": {
    "colab": {
      "provenance": []
    },
    "kernelspec": {
      "display_name": "Python 3",
      "name": "python3"
    }
  },
  "nbformat": 4,
  "nbformat_minor": 0
}